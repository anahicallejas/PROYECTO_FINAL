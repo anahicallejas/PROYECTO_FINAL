{
 "cells": [
  {
   "cell_type": "code",
   "execution_count": null,
   "id": "91cfa145-026f-43bf-9342-613c0f56d248",
   "metadata": {},
   "outputs": [],
   "source": [
    "# carga dataset\n",
    "file_path = '../DATA/issues_history_ready.csv'\n",
    "data = pd.read_csv(file_path, encoding='utf-8')"
   ]
  },
  {
   "cell_type": "code",
   "execution_count": null,
   "id": "b2da2038-b37f-463d-9373-fdc54d99dd99",
   "metadata": {},
   "outputs": [],
   "source": [
    "from sklearn.ensemble import GradientBoostingRegressor\n",
    "\n",
    "gbr_model = GradientBoostingRegressor(\n",
    "    subsample=1.0,\n",
    "    n_estimators=500,\n",
    "    min_samples_split=2,\n",
    "    min_samples_leaf=1,\n",
    "    max_depth=5,\n",
    "    learning_rate=0.05,\n",
    "    random_state=42\n",
    ")\n",
    "\n",
    "# Entrenar el modelo con el conjunto de entrenamiento\n",
    "gbr_model.fit(X_train, y_train)"
   ]
  },
  {
   "cell_type": "code",
   "execution_count": null,
   "id": "8b00f8cc-6b6d-4c28-9e31-0358492abaf9",
   "metadata": {},
   "outputs": [],
   "source": [
    "import joblib\n",
    "joblib.dump(gbr_model, 'gradient_boosting_model.pkl')"
   ]
  },
  {
   "cell_type": "code",
   "execution_count": null,
   "id": "2e46cca1-0a23-473a-a887-c4bc16d4dba3",
   "metadata": {},
   "outputs": [],
   "source": [
    "required_columns = ['Priority', 'Story Points', 'Assignee', 'Issue Type', 'Team']"
   ]
  },
  {
   "cell_type": "code",
   "execution_count": null,
   "id": "5946c078-c94e-43fd-91e7-aa5a17d33372",
   "metadata": {},
   "outputs": [],
   "source": [
    "from jira import JIRA\n",
    "\n",
    "jira = JIRA(server='https://your-jira-instance.com', basic_auth=('user', 'password'))\n",
    "issues = jira.search_issues('project=PROJECT_KEY AND status=\"In Progress\"', maxResults=50)"
   ]
  },
  {
   "cell_type": "code",
   "execution_count": null,
   "id": "383ac560-7bfd-4b19-8834-2fd7ce054716",
   "metadata": {},
   "outputs": [],
   "source": [
    "for issue, prediction in zip(issues, predictions):\n",
    "    issue.update(fields={'customfield_time_estimation': prediction})"
   ]
  },
  {
   "cell_type": "code",
   "execution_count": null,
   "id": "0bb03a0b-8a0f-46de-84f0-c48b6dc426b3",
   "metadata": {},
   "outputs": [],
   "source": [
    "from flask import Flask, request, jsonify\n",
    "import joblib\n",
    "\n",
    "app = Flask(__name__)\n",
    "model = joblib.load('gradient_boosting_model.pkl')\n",
    "\n",
    "@app.route('/predict', methods=['POST'])\n",
    "def predict():\n",
    "    data = request.get_json()\n",
    "    predictions = model.predict(pd.DataFrame(data))\n",
    "    return jsonify(predictions.tolist())\n",
    "\n",
    "app.run()"
   ]
  },
  {
   "cell_type": "code",
   "execution_count": null,
   "id": "da3022ab-060f-414f-93ef-b4ac889f2fcb",
   "metadata": {},
   "outputs": [],
   "source": [
    "# Cargar nuevos datos\n",
    "new_data = extract_data_from_jira()\n",
    "# Reentrenar el modelo\n",
    "gbr_model.fit(new_data['X'], new_data['y'])\n",
    "joblib.dump(gbr_model, 'gradient_boosting_model_updated.pkl')"
   ]
  }
 ],
 "metadata": {
  "kernelspec": {
   "display_name": "Python 3 (ipykernel)",
   "language": "python",
   "name": "python3"
  },
  "language_info": {
   "codemirror_mode": {
    "name": "ipython",
    "version": 3
   },
   "file_extension": ".py",
   "mimetype": "text/x-python",
   "name": "python",
   "nbconvert_exporter": "python",
   "pygments_lexer": "ipython3",
   "version": "3.11.7"
  }
 },
 "nbformat": 4,
 "nbformat_minor": 5
}
