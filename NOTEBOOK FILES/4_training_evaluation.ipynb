{
 "cells": [
  {
   "cell_type": "code",
   "execution_count": 121,
   "id": "2bdf956b-b864-4e9c-9706-5bca8fc09ce5",
   "metadata": {
    "tags": []
   },
   "outputs": [],
   "source": [
    "# librerias\n",
    "import matplotlib.pyplot as plt\n",
    "import seaborn as sns\n",
    "import pandas as pd\n",
    "import numpy as np\n",
    "import matplotlib.dates as mdates"
   ]
  },
  {
   "cell_type": "code",
   "execution_count": 123,
   "id": "d43350bd-c72e-44cc-bda3-d659205511b9",
   "metadata": {
    "tags": []
   },
   "outputs": [
    {
     "data": {
      "text/html": [
       "<div>\n",
       "<style scoped>\n",
       "    .dataframe tbody tr th:only-of-type {\n",
       "        vertical-align: middle;\n",
       "    }\n",
       "\n",
       "    .dataframe tbody tr th {\n",
       "        vertical-align: top;\n",
       "    }\n",
       "\n",
       "    .dataframe thead th {\n",
       "        text-align: right;\n",
       "    }\n",
       "</style>\n",
       "<table border=\"1\" class=\"dataframe\">\n",
       "  <thead>\n",
       "    <tr style=\"text-align: right;\">\n",
       "      <th></th>\n",
       "      <th>Key</th>\n",
       "      <th>Resolution Time</th>\n",
       "      <th>Blocked</th>\n",
       "      <th>Member Efficiency per ticket</th>\n",
       "      <th>Sprint Overdue</th>\n",
       "      <th>Days to Sprint End</th>\n",
       "      <th>Total Story Points per Sprint and team</th>\n",
       "      <th>Total Story Points per Member per Sprint</th>\n",
       "      <th>Average Team Efficiency per Sprint</th>\n",
       "      <th>Block Rate by Issue Type</th>\n",
       "      <th>...</th>\n",
       "      <th>Sprint_Woof Sprint 5</th>\n",
       "      <th>Team_Team Buzz</th>\n",
       "      <th>Team_Team Howl</th>\n",
       "      <th>Team_Team Meow</th>\n",
       "      <th>Team_Team Panda</th>\n",
       "      <th>Team_Team Quack</th>\n",
       "      <th>Team_Team Roar</th>\n",
       "      <th>Team_Team Woof</th>\n",
       "      <th>Complexity_Low</th>\n",
       "      <th>Complexity_Medium</th>\n",
       "    </tr>\n",
       "  </thead>\n",
       "  <tbody>\n",
       "    <tr>\n",
       "      <th>0</th>\n",
       "      <td>NGP-1035</td>\n",
       "      <td>15.346312</td>\n",
       "      <td>1</td>\n",
       "      <td>0.000033</td>\n",
       "      <td>1.0</td>\n",
       "      <td>0.818182</td>\n",
       "      <td>0.387097</td>\n",
       "      <td>0.333333</td>\n",
       "      <td>0.006379</td>\n",
       "      <td>0.500000</td>\n",
       "      <td>...</td>\n",
       "      <td>0</td>\n",
       "      <td>0</td>\n",
       "      <td>0</td>\n",
       "      <td>0</td>\n",
       "      <td>0</td>\n",
       "      <td>0</td>\n",
       "      <td>0</td>\n",
       "      <td>0</td>\n",
       "      <td>0</td>\n",
       "      <td>1</td>\n",
       "    </tr>\n",
       "    <tr>\n",
       "      <th>1</th>\n",
       "      <td>NGP-1036</td>\n",
       "      <td>14.541528</td>\n",
       "      <td>0</td>\n",
       "      <td>0.000055</td>\n",
       "      <td>1.0</td>\n",
       "      <td>0.818182</td>\n",
       "      <td>0.473118</td>\n",
       "      <td>0.454545</td>\n",
       "      <td>0.492863</td>\n",
       "      <td>0.000000</td>\n",
       "      <td>...</td>\n",
       "      <td>0</td>\n",
       "      <td>0</td>\n",
       "      <td>0</td>\n",
       "      <td>0</td>\n",
       "      <td>0</td>\n",
       "      <td>0</td>\n",
       "      <td>0</td>\n",
       "      <td>0</td>\n",
       "      <td>0</td>\n",
       "      <td>0</td>\n",
       "    </tr>\n",
       "    <tr>\n",
       "      <th>2</th>\n",
       "      <td>NGP-1037</td>\n",
       "      <td>6.449189</td>\n",
       "      <td>0</td>\n",
       "      <td>0.000124</td>\n",
       "      <td>1.0</td>\n",
       "      <td>0.818182</td>\n",
       "      <td>0.473118</td>\n",
       "      <td>0.454545</td>\n",
       "      <td>0.492863</td>\n",
       "      <td>0.000000</td>\n",
       "      <td>...</td>\n",
       "      <td>0</td>\n",
       "      <td>0</td>\n",
       "      <td>0</td>\n",
       "      <td>0</td>\n",
       "      <td>0</td>\n",
       "      <td>0</td>\n",
       "      <td>0</td>\n",
       "      <td>0</td>\n",
       "      <td>0</td>\n",
       "      <td>0</td>\n",
       "    </tr>\n",
       "    <tr>\n",
       "      <th>3</th>\n",
       "      <td>NGP-1042</td>\n",
       "      <td>9.453486</td>\n",
       "      <td>1</td>\n",
       "      <td>0.000053</td>\n",
       "      <td>0.0</td>\n",
       "      <td>0.909091</td>\n",
       "      <td>0.301075</td>\n",
       "      <td>0.181818</td>\n",
       "      <td>0.006957</td>\n",
       "      <td>0.333333</td>\n",
       "      <td>...</td>\n",
       "      <td>0</td>\n",
       "      <td>0</td>\n",
       "      <td>0</td>\n",
       "      <td>0</td>\n",
       "      <td>0</td>\n",
       "      <td>0</td>\n",
       "      <td>0</td>\n",
       "      <td>0</td>\n",
       "      <td>0</td>\n",
       "      <td>1</td>\n",
       "    </tr>\n",
       "    <tr>\n",
       "      <th>4</th>\n",
       "      <td>NGP-1043</td>\n",
       "      <td>14.172117</td>\n",
       "      <td>1</td>\n",
       "      <td>0.000035</td>\n",
       "      <td>0.0</td>\n",
       "      <td>0.909091</td>\n",
       "      <td>0.967742</td>\n",
       "      <td>1.000000</td>\n",
       "      <td>0.648653</td>\n",
       "      <td>0.444444</td>\n",
       "      <td>...</td>\n",
       "      <td>0</td>\n",
       "      <td>0</td>\n",
       "      <td>0</td>\n",
       "      <td>0</td>\n",
       "      <td>0</td>\n",
       "      <td>0</td>\n",
       "      <td>0</td>\n",
       "      <td>0</td>\n",
       "      <td>0</td>\n",
       "      <td>1</td>\n",
       "    </tr>\n",
       "  </tbody>\n",
       "</table>\n",
       "<p>5 rows × 263 columns</p>\n",
       "</div>"
      ],
      "text/plain": [
       "        Key  Resolution Time  Blocked  Member Efficiency per ticket  \\\n",
       "0  NGP-1035        15.346312        1                      0.000033   \n",
       "1  NGP-1036        14.541528        0                      0.000055   \n",
       "2  NGP-1037         6.449189        0                      0.000124   \n",
       "3  NGP-1042         9.453486        1                      0.000053   \n",
       "4  NGP-1043        14.172117        1                      0.000035   \n",
       "\n",
       "   Sprint Overdue  Days to Sprint End  Total Story Points per Sprint and team  \\\n",
       "0             1.0            0.818182                                0.387097   \n",
       "1             1.0            0.818182                                0.473118   \n",
       "2             1.0            0.818182                                0.473118   \n",
       "3             0.0            0.909091                                0.301075   \n",
       "4             0.0            0.909091                                0.967742   \n",
       "\n",
       "   Total Story Points per Member per Sprint  \\\n",
       "0                                  0.333333   \n",
       "1                                  0.454545   \n",
       "2                                  0.454545   \n",
       "3                                  0.181818   \n",
       "4                                  1.000000   \n",
       "\n",
       "   Average Team Efficiency per Sprint  Block Rate by Issue Type  ...  \\\n",
       "0                            0.006379                  0.500000  ...   \n",
       "1                            0.492863                  0.000000  ...   \n",
       "2                            0.492863                  0.000000  ...   \n",
       "3                            0.006957                  0.333333  ...   \n",
       "4                            0.648653                  0.444444  ...   \n",
       "\n",
       "   Sprint_Woof Sprint 5  Team_Team Buzz  Team_Team Howl  Team_Team Meow  \\\n",
       "0                     0               0               0               0   \n",
       "1                     0               0               0               0   \n",
       "2                     0               0               0               0   \n",
       "3                     0               0               0               0   \n",
       "4                     0               0               0               0   \n",
       "\n",
       "   Team_Team Panda  Team_Team Quack  Team_Team Roar  Team_Team Woof  \\\n",
       "0                0                0               0               0   \n",
       "1                0                0               0               0   \n",
       "2                0                0               0               0   \n",
       "3                0                0               0               0   \n",
       "4                0                0               0               0   \n",
       "\n",
       "   Complexity_Low  Complexity_Medium  \n",
       "0               0                  1  \n",
       "1               0                  0  \n",
       "2               0                  0  \n",
       "3               0                  1  \n",
       "4               0                  1  \n",
       "\n",
       "[5 rows x 263 columns]"
      ]
     },
     "execution_count": 123,
     "metadata": {},
     "output_type": "execute_result"
    }
   ],
   "source": [
    "# carga dataset\n",
    "file_path = './DATA/issues_history_ready.csv'\n",
    "data = pd.read_csv(file_path, encoding='utf-8')\n",
    "data.head()"
   ]
  },
  {
   "cell_type": "markdown",
   "id": "2939b1a2-769c-4646-971c-f7ccb17f3380",
   "metadata": {
    "tags": []
   },
   "source": [
    "##### Dividir el conjunto de datos en entrenamiento (80%) y prueba (20%)"
   ]
  },
  {
   "cell_type": "code",
   "execution_count": 126,
   "id": "4c61f842-f85b-4a7d-b5e0-dd517ebc07cf",
   "metadata": {
    "tags": []
   },
   "outputs": [],
   "source": [
    "from sklearn.model_selection import train_test_split\n",
    "\n",
    "X = data.drop(columns=['Resolution Time', 'Key'])\n",
    "y = data['Resolution Time']\n",
    "\n",
    "X_train, X_test, y_train, y_test = train_test_split(X, y, test_size=0.2, random_state=42)"
   ]
  },
  {
   "cell_type": "code",
   "execution_count": 128,
   "id": "4410a03f-a750-4abd-b711-42729e30c337",
   "metadata": {
    "tags": []
   },
   "outputs": [],
   "source": [
    "from sklearn.metrics import mean_absolute_error, mean_squared_error, r2_score\n",
    "from sklearn.model_selection import cross_val_score"
   ]
  },
  {
   "cell_type": "markdown",
   "id": "010cd925-43f5-49f5-809f-9a13ceba5601",
   "metadata": {},
   "source": [
    "## Predicción del Tiempo de Resolución de Incidencias"
   ]
  },
  {
   "cell_type": "markdown",
   "id": "62d1ab02-c252-4e2c-9ed0-17840530a9d8",
   "metadata": {},
   "source": [
    "# Random Forest Regressor"
   ]
  },
  {
   "cell_type": "markdown",
   "id": "4b2395c7-636f-4daa-a9e9-46c81eda9ccc",
   "metadata": {},
   "source": [
    "### Entrenamiento simple"
   ]
  },
  {
   "cell_type": "code",
   "execution_count": 133,
   "id": "65088334-5b03-4591-ae04-841b59cf8661",
   "metadata": {
    "tags": []
   },
   "outputs": [
    {
     "name": "stdout",
     "output_type": "stream",
     "text": [
      "MAE: 0.9882551250096437, RMSE: 3.2941440769541797\n"
     ]
    }
   ],
   "source": [
    "from sklearn.ensemble import RandomForestRegressor\n",
    "\n",
    "rf_model = RandomForestRegressor(random_state=42, n_estimators=100)\n",
    "rf_model.fit(X_train, y_train)\n",
    "y_pred = rf_model.predict(X_test)\n",
    "\n",
    "# Evaluar el rendimiento\n",
    "rmse = mean_squared_error(y_test, y_pred, squared=False)\n",
    "mae = mean_absolute_error(y_test, y_pred)\n",
    "print(f\"MAE: {mae}, RMSE: {rmse}\")\n"
   ]
  },
  {
   "cell_type": "markdown",
   "id": "a9cdff2f-0fba-4882-9a00-87879ea97d68",
   "metadata": {},
   "source": [
    "### Validacion cruzada"
   ]
  },
  {
   "cell_type": "code",
   "execution_count": 136,
   "id": "d678ad9d-3d97-45f0-9acc-09ab6dbf7ed8",
   "metadata": {
    "tags": []
   },
   "outputs": [
    {
     "name": "stdout",
     "output_type": "stream",
     "text": [
      "Mean CV MAE: 1.6829925407028128\n"
     ]
    }
   ],
   "source": [
    "cv_scores = cross_val_score(rf_model, X_train, y_train, scoring='neg_mean_absolute_error', cv=5)\n",
    "print(\"Mean CV MAE:\", -cv_scores.mean())"
   ]
  },
  {
   "cell_type": "markdown",
   "id": "12dd628c-6cf0-4023-9032-417e7961ca2d",
   "metadata": {},
   "source": [
    "### Randomized Search"
   ]
  },
  {
   "cell_type": "code",
   "execution_count": 16,
   "id": "531dae68-450a-4c83-8911-858fac868a59",
   "metadata": {
    "tags": []
   },
   "outputs": [
    {
     "name": "stdout",
     "output_type": "stream",
     "text": [
      "Mejores Hiper parametros: {'n_estimators': 500, 'min_samples_split': 5, 'min_samples_leaf': 2, 'max_features': 1.0, 'max_depth': 10}\n"
     ]
    }
   ],
   "source": [
    "from sklearn.model_selection import RandomizedSearchCV\n",
    "\n",
    "# Definir el espacio de búsqueda de hiperparámetros\n",
    "param_distributions = {\n",
    "    'n_estimators': [100, 200, 500, 1000],\n",
    "    'max_depth': [None, 10, 20, 50],\n",
    "    'min_samples_split': [2, 5, 10],\n",
    "    'min_samples_leaf': [1, 2, 4],\n",
    "    'max_features': [1.0, 'sqrt', 'log2']\n",
    "}\n",
    "\n",
    "# Configurar RandomizedSearchCV\n",
    "random_search = RandomizedSearchCV(\n",
    "    estimator=RandomForestRegressor(random_state=42),\n",
    "    param_distributions=param_distributions,\n",
    "    n_iter=50,  # Número de combinaciones aleatorias a probar\n",
    "    scoring='neg_mean_absolute_error',\n",
    "    cv=5,  # Validación cruzada de 5 pliegues\n",
    "    random_state=42,\n",
    "    n_jobs=-1  # Paralelismo para acelerar el entrenamiento\n",
    ")\n",
    "\n",
    "# Entrenar la búsqueda aleatoria\n",
    "random_search.fit(X_train, y_train)\n",
    "\n",
    "# Mostrar los mejores hiperparámetros encontrados\n",
    "best_params = random_search.best_params_\n",
    "print(f\"Mejores Hiper parametros: {best_params}\")"
   ]
  },
  {
   "cell_type": "markdown",
   "id": "87aba6e1-6d2e-4ec8-940a-fcc41fc7c902",
   "metadata": {},
   "source": [
    "### Entrenamiento Final"
   ]
  },
  {
   "cell_type": "code",
   "execution_count": 138,
   "id": "8e77dd15-0182-4d8b-b1e9-c7c05178409b",
   "metadata": {
    "tags": []
   },
   "outputs": [
    {
     "data": {
      "text/html": [
       "<style>#sk-container-id-8 {color: black;background-color: white;}#sk-container-id-8 pre{padding: 0;}#sk-container-id-8 div.sk-toggleable {background-color: white;}#sk-container-id-8 label.sk-toggleable__label {cursor: pointer;display: block;width: 100%;margin-bottom: 0;padding: 0.3em;box-sizing: border-box;text-align: center;}#sk-container-id-8 label.sk-toggleable__label-arrow:before {content: \"▸\";float: left;margin-right: 0.25em;color: #696969;}#sk-container-id-8 label.sk-toggleable__label-arrow:hover:before {color: black;}#sk-container-id-8 div.sk-estimator:hover label.sk-toggleable__label-arrow:before {color: black;}#sk-container-id-8 div.sk-toggleable__content {max-height: 0;max-width: 0;overflow: hidden;text-align: left;background-color: #f0f8ff;}#sk-container-id-8 div.sk-toggleable__content pre {margin: 0.2em;color: black;border-radius: 0.25em;background-color: #f0f8ff;}#sk-container-id-8 input.sk-toggleable__control:checked~div.sk-toggleable__content {max-height: 200px;max-width: 100%;overflow: auto;}#sk-container-id-8 input.sk-toggleable__control:checked~label.sk-toggleable__label-arrow:before {content: \"▾\";}#sk-container-id-8 div.sk-estimator input.sk-toggleable__control:checked~label.sk-toggleable__label {background-color: #d4ebff;}#sk-container-id-8 div.sk-label input.sk-toggleable__control:checked~label.sk-toggleable__label {background-color: #d4ebff;}#sk-container-id-8 input.sk-hidden--visually {border: 0;clip: rect(1px 1px 1px 1px);clip: rect(1px, 1px, 1px, 1px);height: 1px;margin: -1px;overflow: hidden;padding: 0;position: absolute;width: 1px;}#sk-container-id-8 div.sk-estimator {font-family: monospace;background-color: #f0f8ff;border: 1px dotted black;border-radius: 0.25em;box-sizing: border-box;margin-bottom: 0.5em;}#sk-container-id-8 div.sk-estimator:hover {background-color: #d4ebff;}#sk-container-id-8 div.sk-parallel-item::after {content: \"\";width: 100%;border-bottom: 1px solid gray;flex-grow: 1;}#sk-container-id-8 div.sk-label:hover label.sk-toggleable__label {background-color: #d4ebff;}#sk-container-id-8 div.sk-serial::before {content: \"\";position: absolute;border-left: 1px solid gray;box-sizing: border-box;top: 0;bottom: 0;left: 50%;z-index: 0;}#sk-container-id-8 div.sk-serial {display: flex;flex-direction: column;align-items: center;background-color: white;padding-right: 0.2em;padding-left: 0.2em;position: relative;}#sk-container-id-8 div.sk-item {position: relative;z-index: 1;}#sk-container-id-8 div.sk-parallel {display: flex;align-items: stretch;justify-content: center;background-color: white;position: relative;}#sk-container-id-8 div.sk-item::before, #sk-container-id-8 div.sk-parallel-item::before {content: \"\";position: absolute;border-left: 1px solid gray;box-sizing: border-box;top: 0;bottom: 0;left: 50%;z-index: -1;}#sk-container-id-8 div.sk-parallel-item {display: flex;flex-direction: column;z-index: 1;position: relative;background-color: white;}#sk-container-id-8 div.sk-parallel-item:first-child::after {align-self: flex-end;width: 50%;}#sk-container-id-8 div.sk-parallel-item:last-child::after {align-self: flex-start;width: 50%;}#sk-container-id-8 div.sk-parallel-item:only-child::after {width: 0;}#sk-container-id-8 div.sk-dashed-wrapped {border: 1px dashed gray;margin: 0 0.4em 0.5em 0.4em;box-sizing: border-box;padding-bottom: 0.4em;background-color: white;}#sk-container-id-8 div.sk-label label {font-family: monospace;font-weight: bold;display: inline-block;line-height: 1.2em;}#sk-container-id-8 div.sk-label-container {text-align: center;}#sk-container-id-8 div.sk-container {/* jupyter's `normalize.less` sets `[hidden] { display: none; }` but bootstrap.min.css set `[hidden] { display: none !important; }` so we also need the `!important` here to be able to override the default hidden behavior on the sphinx rendered scikit-learn.org. See: https://github.com/scikit-learn/scikit-learn/issues/21755 */display: inline-block !important;position: relative;}#sk-container-id-8 div.sk-text-repr-fallback {display: none;}</style><div id=\"sk-container-id-8\" class=\"sk-top-container\"><div class=\"sk-text-repr-fallback\"><pre>RandomForestRegressor(max_depth=10, min_samples_leaf=2, min_samples_split=5,\n",
       "                      n_estimators=500, n_jobs=-1, random_state=42)</pre><b>In a Jupyter environment, please rerun this cell to show the HTML representation or trust the notebook. <br />On GitHub, the HTML representation is unable to render, please try loading this page with nbviewer.org.</b></div><div class=\"sk-container\" hidden><div class=\"sk-item\"><div class=\"sk-estimator sk-toggleable\"><input class=\"sk-toggleable__control sk-hidden--visually\" id=\"sk-estimator-id-8\" type=\"checkbox\" checked><label for=\"sk-estimator-id-8\" class=\"sk-toggleable__label sk-toggleable__label-arrow\">RandomForestRegressor</label><div class=\"sk-toggleable__content\"><pre>RandomForestRegressor(max_depth=10, min_samples_leaf=2, min_samples_split=5,\n",
       "                      n_estimators=500, n_jobs=-1, random_state=42)</pre></div></div></div></div></div>"
      ],
      "text/plain": [
       "RandomForestRegressor(max_depth=10, min_samples_leaf=2, min_samples_split=5,\n",
       "                      n_estimators=500, n_jobs=-1, random_state=42)"
      ]
     },
     "execution_count": 138,
     "metadata": {},
     "output_type": "execute_result"
    }
   ],
   "source": [
    "from sklearn.ensemble import RandomForestRegressor\n",
    "\n",
    "rf_model = RandomForestRegressor(\n",
    "    random_state=42,\n",
    "    n_estimators=500,\n",
    "    min_samples_split=5,\n",
    "    min_samples_leaf=2,\n",
    "    max_features=1.0,\n",
    "    max_depth=10,\n",
    "    n_jobs = -1\n",
    ")\n",
    "rf_model.fit(X_train, y_train)"
   ]
  },
  {
   "cell_type": "markdown",
   "id": "845540ac-8c12-47bc-acf0-1f5172629830",
   "metadata": {},
   "source": [
    "### Validacion"
   ]
  },
  {
   "cell_type": "code",
   "execution_count": 141,
   "id": "23a2f47d-d86c-4b70-b7f9-e34e186aa16a",
   "metadata": {
    "tags": []
   },
   "outputs": [
    {
     "name": "stdout",
     "output_type": "stream",
     "text": [
      "Random Forest Regressor\n",
      "Mean Absolute Error (MAE): 0.8803930887661476\n",
      "Mean Squared Error (MSE): 10.3881296584871\n",
      "R² Score: 0.8545479406483211\n"
     ]
    }
   ],
   "source": [
    "y_pred_rf = rf_model.predict(X_test)\n",
    "\n",
    "mae_rf = mean_absolute_error(y_test, y_pred_rf)\n",
    "mse_rf = mean_squared_error(y_test, y_pred_rf)\n",
    "r2_rf = r2_score(y_test, y_pred)\n",
    "\n",
    "print(\"Random Forest Regressor\")\n",
    "print(f\"Mean Absolute Error (MAE): {mae_rf}\")\n",
    "print(f\"Mean Squared Error (MSE): {mse_rf}\")\n",
    "print(f\"R² Score: {r2_rf}\")"
   ]
  },
  {
   "cell_type": "code",
   "execution_count": 143,
   "id": "bdfcd74b-62d8-4f7d-bd24-d8b29bdbdac7",
   "metadata": {
    "tags": []
   },
   "outputs": [
    {
     "data": {
      "image/png": "[encoded data removed]",
      "text/plain": [
       "<Figure size 800x600 with 1 Axes>"
      ]
     },
     "metadata": {},
     "output_type": "display_data"
    }
   ],
   "source": [
    "plt.figure(figsize=(8, 6))\n",
    "plt.scatter(y_test, y_pred_rf, alpha=0.7)\n",
    "plt.plot([y_test.min(), y_test.max()], [y_test.min(), y_test.max()], 'k--', lw=2)\n",
    "plt.xlabel('Valores Reales')\n",
    "plt.ylabel('Predicciones')\n",
    "plt.title('Predicciones vs Valores Reales')\n",
    "plt.show()"
   ]
  },
  {
   "cell_type": "code",
   "execution_count": 145,
   "id": "90c0a77c-8c4a-4c39-9419-627ae2d4a8f1",
   "metadata": {
    "tags": []
   },
   "outputs": [
    {
     "data": {
      "text/html": [
       "<div>\n",
       "<style scoped>\n",
       "    .dataframe tbody tr th:only-of-type {\n",
       "        vertical-align: middle;\n",
       "    }\n",
       "\n",
       "    .dataframe tbody tr th {\n",
       "        vertical-align: top;\n",
       "    }\n",
       "\n",
       "    .dataframe thead th {\n",
       "        text-align: right;\n",
       "    }\n",
       "</style>\n",
       "<table border=\"1\" class=\"dataframe\">\n",
       "  <thead>\n",
       "    <tr style=\"text-align: right;\">\n",
       "      <th></th>\n",
       "      <th>Valores Reales</th>\n",
       "      <th>Valores Predichos</th>\n",
       "      <th>Diferencia Absoluta</th>\n",
       "      <th>Porcentaje de Acierto</th>\n",
       "    </tr>\n",
       "  </thead>\n",
       "  <tbody>\n",
       "    <tr>\n",
       "      <th>22</th>\n",
       "      <td>4.377450</td>\n",
       "      <td>4.379470</td>\n",
       "      <td>0.002020</td>\n",
       "      <td>99.953857</td>\n",
       "    </tr>\n",
       "    <tr>\n",
       "      <th>80</th>\n",
       "      <td>6.280846</td>\n",
       "      <td>6.286088</td>\n",
       "      <td>0.005241</td>\n",
       "      <td>99.916548</td>\n",
       "    </tr>\n",
       "    <tr>\n",
       "      <th>52</th>\n",
       "      <td>10.171600</td>\n",
       "      <td>10.182361</td>\n",
       "      <td>0.010761</td>\n",
       "      <td>99.894203</td>\n",
       "    </tr>\n",
       "    <tr>\n",
       "      <th>82</th>\n",
       "      <td>9.886388</td>\n",
       "      <td>9.874012</td>\n",
       "      <td>0.012375</td>\n",
       "      <td>99.874825</td>\n",
       "    </tr>\n",
       "    <tr>\n",
       "      <th>64</th>\n",
       "      <td>1.785343</td>\n",
       "      <td>1.782516</td>\n",
       "      <td>0.002828</td>\n",
       "      <td>99.841624</td>\n",
       "    </tr>\n",
       "    <tr>\n",
       "      <th>14</th>\n",
       "      <td>5.887029</td>\n",
       "      <td>5.896637</td>\n",
       "      <td>0.009608</td>\n",
       "      <td>99.836786</td>\n",
       "    </tr>\n",
       "    <tr>\n",
       "      <th>44</th>\n",
       "      <td>6.073060</td>\n",
       "      <td>6.091178</td>\n",
       "      <td>0.018117</td>\n",
       "      <td>99.701677</td>\n",
       "    </tr>\n",
       "    <tr>\n",
       "      <th>73</th>\n",
       "      <td>13.045678</td>\n",
       "      <td>13.098674</td>\n",
       "      <td>0.052996</td>\n",
       "      <td>99.593767</td>\n",
       "    </tr>\n",
       "    <tr>\n",
       "      <th>108</th>\n",
       "      <td>10.987417</td>\n",
       "      <td>11.041763</td>\n",
       "      <td>0.054346</td>\n",
       "      <td>99.505379</td>\n",
       "    </tr>\n",
       "    <tr>\n",
       "      <th>34</th>\n",
       "      <td>6.995511</td>\n",
       "      <td>7.038752</td>\n",
       "      <td>0.043241</td>\n",
       "      <td>99.381879</td>\n",
       "    </tr>\n",
       "    <tr>\n",
       "      <th>69</th>\n",
       "      <td>16.182109</td>\n",
       "      <td>16.081708</td>\n",
       "      <td>0.100401</td>\n",
       "      <td>99.379553</td>\n",
       "    </tr>\n",
       "    <tr>\n",
       "      <th>21</th>\n",
       "      <td>6.103489</td>\n",
       "      <td>6.061627</td>\n",
       "      <td>0.041862</td>\n",
       "      <td>99.314129</td>\n",
       "    </tr>\n",
       "    <tr>\n",
       "      <th>55</th>\n",
       "      <td>12.992755</td>\n",
       "      <td>12.881463</td>\n",
       "      <td>0.111292</td>\n",
       "      <td>99.143433</td>\n",
       "    </tr>\n",
       "    <tr>\n",
       "      <th>85</th>\n",
       "      <td>6.321908</td>\n",
       "      <td>6.262964</td>\n",
       "      <td>0.058944</td>\n",
       "      <td>99.067619</td>\n",
       "    </tr>\n",
       "    <tr>\n",
       "      <th>67</th>\n",
       "      <td>9.650792</td>\n",
       "      <td>9.742376</td>\n",
       "      <td>0.091584</td>\n",
       "      <td>99.051023</td>\n",
       "    </tr>\n",
       "    <tr>\n",
       "      <th>42</th>\n",
       "      <td>5.902814</td>\n",
       "      <td>5.962382</td>\n",
       "      <td>0.059568</td>\n",
       "      <td>98.990858</td>\n",
       "    </tr>\n",
       "    <tr>\n",
       "      <th>92</th>\n",
       "      <td>5.872017</td>\n",
       "      <td>5.947112</td>\n",
       "      <td>0.075095</td>\n",
       "      <td>98.721134</td>\n",
       "    </tr>\n",
       "    <tr>\n",
       "      <th>66</th>\n",
       "      <td>5.909637</td>\n",
       "      <td>5.986982</td>\n",
       "      <td>0.077345</td>\n",
       "      <td>98.691200</td>\n",
       "    </tr>\n",
       "    <tr>\n",
       "      <th>19</th>\n",
       "      <td>1.770959</td>\n",
       "      <td>1.747692</td>\n",
       "      <td>0.023267</td>\n",
       "      <td>98.686183</td>\n",
       "    </tr>\n",
       "    <tr>\n",
       "      <th>91</th>\n",
       "      <td>6.957071</td>\n",
       "      <td>7.066800</td>\n",
       "      <td>0.109728</td>\n",
       "      <td>98.422781</td>\n",
       "    </tr>\n",
       "  </tbody>\n",
       "</table>\n",
       "</div>"
      ],
      "text/plain": [
       "     Valores Reales  Valores Predichos  Diferencia Absoluta  \\\n",
       "22         4.377450           4.379470             0.002020   \n",
       "80         6.280846           6.286088             0.005241   \n",
       "52        10.171600          10.182361             0.010761   \n",
       "82         9.886388           9.874012             0.012375   \n",
       "64         1.785343           1.782516             0.002828   \n",
       "14         5.887029           5.896637             0.009608   \n",
       "44         6.073060           6.091178             0.018117   \n",
       "73        13.045678          13.098674             0.052996   \n",
       "108       10.987417          11.041763             0.054346   \n",
       "34         6.995511           7.038752             0.043241   \n",
       "69        16.182109          16.081708             0.100401   \n",
       "21         6.103489           6.061627             0.041862   \n",
       "55        12.992755          12.881463             0.111292   \n",
       "85         6.321908           6.262964             0.058944   \n",
       "67         9.650792           9.742376             0.091584   \n",
       "42         5.902814           5.962382             0.059568   \n",
       "92         5.872017           5.947112             0.075095   \n",
       "66         5.909637           5.986982             0.077345   \n",
       "19         1.770959           1.747692             0.023267   \n",
       "91         6.957071           7.066800             0.109728   \n",
       "\n",
       "     Porcentaje de Acierto  \n",
       "22               99.953857  \n",
       "80               99.916548  \n",
       "52               99.894203  \n",
       "82               99.874825  \n",
       "64               99.841624  \n",
       "14               99.836786  \n",
       "44               99.701677  \n",
       "73               99.593767  \n",
       "108              99.505379  \n",
       "34               99.381879  \n",
       "69               99.379553  \n",
       "21               99.314129  \n",
       "55               99.143433  \n",
       "85               99.067619  \n",
       "67               99.051023  \n",
       "42               98.990858  \n",
       "92               98.721134  \n",
       "66               98.691200  \n",
       "19               98.686183  \n",
       "91               98.422781  "
      ]
     },
     "execution_count": 145,
     "metadata": {},
     "output_type": "execute_result"
    }
   ],
   "source": [
    "results_rf  = pd.DataFrame({\n",
    "    'Valores Reales': y_test.values,\n",
    "    'Valores Predichos': y_pred_rf,\n",
    "    'Diferencia Absoluta': abs(y_test.values - y_pred_rf),\n",
    "    'Porcentaje de Acierto': [\n",
    "        100 - (abs(real - pred) / abs(real) * 100) if real != 0 else None\n",
    "        for real, pred in zip(y_test.values, y_pred_rf)\n",
    "    ]\n",
    "})\n",
    "\n",
    "results_rf.sort_values(by='Porcentaje de Acierto', ascending=False).head(20)"
   ]
  },
  {
   "cell_type": "markdown",
   "id": "10bef9cc-1092-4fdd-98ad-b3c93aea71f7",
   "metadata": {},
   "source": [
    "### Importancia de las caracteristicas"
   ]
  },
  {
   "cell_type": "code",
   "execution_count": 148,
   "id": "6ef68a6e-26dc-4dee-9a7d-5ad550c2a16e",
   "metadata": {
    "tags": []
   },
   "outputs": [
    {
     "data": {
      "image/png": "[encoded data removed]",
      "text/plain": [
       "<Figure size 1000x600 with 1 Axes>"
      ]
     },
     "metadata": {},
     "output_type": "display_data"
    }
   ],
   "source": [
    "# Obtener las importancias de las características del modelo entrenado\n",
    "feature_importances = pd.DataFrame({\n",
    "    'Caracteristica': X_train.columns,\n",
    "    'Importancia': rf_model.feature_importances_\n",
    "}).sort_values(by='Importancia', ascending=False)\n",
    "\n",
    "top_features = feature_importances.head(5)\n",
    "\n",
    "plt.figure(figsize=(10, 6))\n",
    "plt.barh(top_features['Caracteristica'], top_features['Importancia'], align='center')\n",
    "plt.xlabel('Importancia')\n",
    "plt.ylabel('Caracteristica')\n",
    "plt.title('Top 5 de las caracteristicas mas importantes - Random Forest')\n",
    "plt.gca().invert_yaxis()\n",
    "plt.tight_layout()\n",
    "plt.show()"
   ]
  },
  {
   "cell_type": "markdown",
   "id": "9a9e1903-d90a-4955-abb1-f9fcc12bcfa8",
   "metadata": {},
   "source": [
    "### Validacion Cruzada final"
   ]
  },
  {
   "cell_type": "code",
   "execution_count": 151,
   "id": "cf88e37b-47d9-4eec-b735-760e236e789b",
   "metadata": {
    "tags": []
   },
   "outputs": [
    {
     "name": "stdout",
     "output_type": "stream",
     "text": [
      "Mean CV MAE: 1.6239391977641688\n"
     ]
    }
   ],
   "source": [
    "cv_scores = cross_val_score(rf_model, X_train, y_train, scoring='neg_mean_absolute_error', cv=5)\n",
    "print(\"Mean CV MAE:\", -cv_scores.mean())"
   ]
  },
  {
   "cell_type": "markdown",
   "id": "894540b7-c583-47a7-941c-17042fee4dc9",
   "metadata": {},
   "source": [
    "# Gradient Boosting Regressor"
   ]
  },
  {
   "cell_type": "markdown",
   "id": "99503024-92d1-4308-94b6-ce024e8a34be",
   "metadata": {},
   "source": [
    "### Entrenamiento Simple"
   ]
  },
  {
   "cell_type": "code",
   "execution_count": 155,
   "id": "b279c9a7-615e-49d2-9fe6-36cb03475523",
   "metadata": {
    "tags": []
   },
   "outputs": [
    {
     "name": "stdout",
     "output_type": "stream",
     "text": [
      "MAE: 1.307176045442665, RMSE: 3.571387958406768\n"
     ]
    }
   ],
   "source": [
    "from sklearn.ensemble import GradientBoostingRegressor\n",
    "\n",
    "gbr_model = GradientBoostingRegressor(random_state=42, n_estimators=100, learning_rate=0.1)\n",
    "gbr_model.fit(X_train, y_train)\n",
    "y_pred = gbr_model.predict(X_test)\n",
    "\n",
    "# Evaluar el rendimiento\n",
    "rmse = mean_squared_error(y_test, y_pred, squared=False)\n",
    "mae = mean_absolute_error(y_test, y_pred)\n",
    "print(f\"MAE: {mae}, RMSE: {rmse}\")\n"
   ]
  },
  {
   "cell_type": "markdown",
   "id": "40d8adf4-100a-4e92-87f1-ae86c0174842",
   "metadata": {},
   "source": [
    "### Validacion Cruzada"
   ]
  },
  {
   "cell_type": "code",
   "execution_count": 158,
   "id": "0caad468-181b-460b-a8a9-d86186972209",
   "metadata": {
    "tags": []
   },
   "outputs": [
    {
     "name": "stdout",
     "output_type": "stream",
     "text": [
      "Mean CV MAE: 1.5662234949177396\n"
     ]
    }
   ],
   "source": [
    "from sklearn.model_selection import cross_val_score\n",
    "\n",
    "cv_scores = cross_val_score(gbr_model, X_train, y_train, scoring='neg_mean_absolute_error', cv=5)\n",
    "print(\"Mean CV MAE:\", -cv_scores.mean())"
   ]
  },
  {
   "cell_type": "markdown",
   "id": "97a68d9c-476e-41ce-851e-661c138e7baf",
   "metadata": {},
   "source": [
    "### Randomized Search"
   ]
  },
  {
   "cell_type": "code",
   "execution_count": 161,
   "id": "2fcb38e2-f9f9-4727-b7c0-80b8c7d5502b",
   "metadata": {
    "tags": []
   },
   "outputs": [
    {
     "name": "stdout",
     "output_type": "stream",
     "text": [
      "Best Parameters: {'subsample': 1.0, 'n_estimators': 500, 'min_samples_split': 2, 'min_samples_leaf': 1, 'max_depth': 5, 'learning_rate': 0.05}\n"
     ]
    }
   ],
   "source": [
    "# Definir el espacio de búsqueda\n",
    "param_distributions = {\n",
    "    'n_estimators': [100, 200, 500, 1000],\n",
    "    'learning_rate': [0.01, 0.05, 0.1, 0.2],\n",
    "    'max_depth': [3, 5, 10, None],\n",
    "    'min_samples_split': [2, 5, 10],\n",
    "    'min_samples_leaf': [1, 2, 4],\n",
    "    'subsample': [0.5, 0.7, 1.0]\n",
    "}\n",
    "\n",
    "# Configurar Randomized Search\n",
    "random_search = RandomizedSearchCV(\n",
    "    estimator=GradientBoostingRegressor(random_state=42),\n",
    "    param_distributions=param_distributions,\n",
    "    n_iter=50,  # Número de combinaciones a probar\n",
    "    scoring='neg_mean_absolute_error',\n",
    "    cv=5,  # Validación cruzada de 5 pliegues\n",
    "    random_state=42,\n",
    "    n_jobs=-1  # Paralelismo\n",
    ")\n",
    "\n",
    "# Entrenar Randomized Search\n",
    "random_search.fit(X_train, y_train)\n",
    "\n",
    "# Mostrar los mejores hiperparámetros y el mejor MAE\n",
    "best_params = random_search.best_params_\n",
    "print(f\"Best Parameters: {best_params}\")"
   ]
  },
  {
   "cell_type": "markdown",
   "id": "1f226501-8824-49c2-aa84-173483459357",
   "metadata": {},
   "source": [
    "### Entrenamiento Final"
   ]
  },
  {
   "cell_type": "code",
   "execution_count": 164,
   "id": "b8ba044d-6117-4779-9664-57b9a7c419da",
   "metadata": {
    "tags": []
   },
   "outputs": [
    {
     "data": {
      "text/html": [
       "<style>#sk-container-id-9 {color: black;background-color: white;}#sk-container-id-9 pre{padding: 0;}#sk-container-id-9 div.sk-toggleable {background-color: white;}#sk-container-id-9 label.sk-toggleable__label {cursor: pointer;display: block;width: 100%;margin-bottom: 0;padding: 0.3em;box-sizing: border-box;text-align: center;}#sk-container-id-9 label.sk-toggleable__label-arrow:before {content: \"▸\";float: left;margin-right: 0.25em;color: #696969;}#sk-container-id-9 label.sk-toggleable__label-arrow:hover:before {color: black;}#sk-container-id-9 div.sk-estimator:hover label.sk-toggleable__label-arrow:before {color: black;}#sk-container-id-9 div.sk-toggleable__content {max-height: 0;max-width: 0;overflow: hidden;text-align: left;background-color: #f0f8ff;}#sk-container-id-9 div.sk-toggleable__content pre {margin: 0.2em;color: black;border-radius: 0.25em;background-color: #f0f8ff;}#sk-container-id-9 input.sk-toggleable__control:checked~div.sk-toggleable__content {max-height: 200px;max-width: 100%;overflow: auto;}#sk-container-id-9 input.sk-toggleable__control:checked~label.sk-toggleable__label-arrow:before {content: \"▾\";}#sk-container-id-9 div.sk-estimator input.sk-toggleable__control:checked~label.sk-toggleable__label {background-color: #d4ebff;}#sk-container-id-9 div.sk-label input.sk-toggleable__control:checked~label.sk-toggleable__label {background-color: #d4ebff;}#sk-container-id-9 input.sk-hidden--visually {border: 0;clip: rect(1px 1px 1px 1px);clip: rect(1px, 1px, 1px, 1px);height: 1px;margin: -1px;overflow: hidden;padding: 0;position: absolute;width: 1px;}#sk-container-id-9 div.sk-estimator {font-family: monospace;background-color: #f0f8ff;border: 1px dotted black;border-radius: 0.25em;box-sizing: border-box;margin-bottom: 0.5em;}#sk-container-id-9 div.sk-estimator:hover {background-color: #d4ebff;}#sk-container-id-9 div.sk-parallel-item::after {content: \"\";width: 100%;border-bottom: 1px solid gray;flex-grow: 1;}#sk-container-id-9 div.sk-label:hover label.sk-toggleable__label {background-color: #d4ebff;}#sk-container-id-9 div.sk-serial::before {content: \"\";position: absolute;border-left: 1px solid gray;box-sizing: border-box;top: 0;bottom: 0;left: 50%;z-index: 0;}#sk-container-id-9 div.sk-serial {display: flex;flex-direction: column;align-items: center;background-color: white;padding-right: 0.2em;padding-left: 0.2em;position: relative;}#sk-container-id-9 div.sk-item {position: relative;z-index: 1;}#sk-container-id-9 div.sk-parallel {display: flex;align-items: stretch;justify-content: center;background-color: white;position: relative;}#sk-container-id-9 div.sk-item::before, #sk-container-id-9 div.sk-parallel-item::before {content: \"\";position: absolute;border-left: 1px solid gray;box-sizing: border-box;top: 0;bottom: 0;left: 50%;z-index: -1;}#sk-container-id-9 div.sk-parallel-item {display: flex;flex-direction: column;z-index: 1;position: relative;background-color: white;}#sk-container-id-9 div.sk-parallel-item:first-child::after {align-self: flex-end;width: 50%;}#sk-container-id-9 div.sk-parallel-item:last-child::after {align-self: flex-start;width: 50%;}#sk-container-id-9 div.sk-parallel-item:only-child::after {width: 0;}#sk-container-id-9 div.sk-dashed-wrapped {border: 1px dashed gray;margin: 0 0.4em 0.5em 0.4em;box-sizing: border-box;padding-bottom: 0.4em;background-color: white;}#sk-container-id-9 div.sk-label label {font-family: monospace;font-weight: bold;display: inline-block;line-height: 1.2em;}#sk-container-id-9 div.sk-label-container {text-align: center;}#sk-container-id-9 div.sk-container {/* jupyter's `normalize.less` sets `[hidden] { display: none; }` but bootstrap.min.css set `[hidden] { display: none !important; }` so we also need the `!important` here to be able to override the default hidden behavior on the sphinx rendered scikit-learn.org. See: https://github.com/scikit-learn/scikit-learn/issues/21755 */display: inline-block !important;position: relative;}#sk-container-id-9 div.sk-text-repr-fallback {display: none;}</style><div id=\"sk-container-id-9\" class=\"sk-top-container\"><div class=\"sk-text-repr-fallback\"><pre>GradientBoostingRegressor(learning_rate=0.05, max_depth=5, n_estimators=500,\n",
       "                          random_state=42)</pre><b>In a Jupyter environment, please rerun this cell to show the HTML representation or trust the notebook. <br />On GitHub, the HTML representation is unable to render, please try loading this page with nbviewer.org.</b></div><div class=\"sk-container\" hidden><div class=\"sk-item\"><div class=\"sk-estimator sk-toggleable\"><input class=\"sk-toggleable__control sk-hidden--visually\" id=\"sk-estimator-id-9\" type=\"checkbox\" checked><label for=\"sk-estimator-id-9\" class=\"sk-toggleable__label sk-toggleable__label-arrow\">GradientBoostingRegressor</label><div class=\"sk-toggleable__content\"><pre>GradientBoostingRegressor(learning_rate=0.05, max_depth=5, n_estimators=500,\n",
       "                          random_state=42)</pre></div></div></div></div></div>"
      ],
      "text/plain": [
       "GradientBoostingRegressor(learning_rate=0.05, max_depth=5, n_estimators=500,\n",
       "                          random_state=42)"
      ]
     },
     "execution_count": 164,
     "metadata": {},
     "output_type": "execute_result"
    }
   ],
   "source": [
    "from sklearn.ensemble import GradientBoostingRegressor\n",
    "\n",
    "gbr_model = GradientBoostingRegressor(\n",
    "    subsample=1.0,\n",
    "    n_estimators=500,\n",
    "    min_samples_split=2,\n",
    "    min_samples_leaf=1,\n",
    "    max_depth=5,\n",
    "    learning_rate=0.05,\n",
    "    random_state=42\n",
    ")\n",
    "\n",
    "# Entrenar el modelo con el conjunto de entrenamiento\n",
    "gbr_model.fit(X_train, y_train)"
   ]
  },
  {
   "cell_type": "markdown",
   "id": "c9be2213-2048-4699-a36f-489e7a066481",
   "metadata": {},
   "source": [
    "### Validacion"
   ]
  },
  {
   "cell_type": "code",
   "execution_count": 167,
   "id": "2b88bb98-116b-4eb2-a332-5ef140e7e5b7",
   "metadata": {
    "tags": []
   },
   "outputs": [
    {
     "name": "stdout",
     "output_type": "stream",
     "text": [
      "Gradient Boosting Regressor\n",
      "Mean Absolute Error (MAE): 1.307176045442665\n",
      "Mean Squared Error (MSE): 12.75481194945286\n",
      "R² Score: 0.8290343923338849\n"
     ]
    }
   ],
   "source": [
    "y_pred_gbr = gbr_model.predict(X_test)\n",
    "\n",
    "mae_gbr = mean_absolute_error(y_test, y_pred)\n",
    "mse_gbr  = mean_squared_error(y_test, y_pred)\n",
    "r2_gbr  = r2_score(y_test, y_pred)\n",
    "\n",
    "print(\"Gradient Boosting Regressor\")\n",
    "print(f\"Mean Absolute Error (MAE): {mae_gbr }\")\n",
    "print(f\"Mean Squared Error (MSE): {mse_gbr }\")\n",
    "print(f\"R² Score: {r2_gbr }\")"
   ]
  },
  {
   "cell_type": "code",
   "execution_count": 169,
   "id": "48035dc3-8da2-4d4f-bea6-26ec56a37442",
   "metadata": {
    "tags": []
   },
   "outputs": [
    {
     "data": {
      "image/png": "[encoded data removed]",
      "text/plain": [
       "<Figure size 800x600 with 1 Axes>"
      ]
     },
     "metadata": {},
     "output_type": "display_data"
    }
   ],
   "source": [
    "plt.figure(figsize=(8, 6))\n",
    "plt.scatter(y_test, y_pred_gbr, alpha=0.7)\n",
    "plt.plot([y_test.min(), y_test.max()], [y_test.min(), y_test.max()], 'k--', lw=2)\n",
    "plt.xlabel('Valores Reales')\n",
    "plt.ylabel('Predicciones')\n",
    "plt.title('Predicciones vs Valores Reales')\n",
    "plt.show()"
   ]
  },
  {
   "cell_type": "code",
   "execution_count": 171,
   "id": "25edf510-37e2-4fa3-88cd-4ba521fb2558",
   "metadata": {
    "tags": []
   },
   "outputs": [
    {
     "data": {
      "text/html": [
       "<div>\n",
       "<style scoped>\n",
       "    .dataframe tbody tr th:only-of-type {\n",
       "        vertical-align: middle;\n",
       "    }\n",
       "\n",
       "    .dataframe tbody tr th {\n",
       "        vertical-align: top;\n",
       "    }\n",
       "\n",
       "    .dataframe thead th {\n",
       "        text-align: right;\n",
       "    }\n",
       "</style>\n",
       "<table border=\"1\" class=\"dataframe\">\n",
       "  <thead>\n",
       "    <tr style=\"text-align: right;\">\n",
       "      <th></th>\n",
       "      <th>Valores Reales</th>\n",
       "      <th>Valores Predichos</th>\n",
       "      <th>Diferencia Absoluta</th>\n",
       "      <th>Porcentaje de Acierto</th>\n",
       "    </tr>\n",
       "  </thead>\n",
       "  <tbody>\n",
       "    <tr>\n",
       "      <th>73</th>\n",
       "      <td>13.045678</td>\n",
       "      <td>13.043473</td>\n",
       "      <td>0.002206</td>\n",
       "      <td>99.983093</td>\n",
       "    </tr>\n",
       "    <tr>\n",
       "      <th>33</th>\n",
       "      <td>6.060243</td>\n",
       "      <td>6.067752</td>\n",
       "      <td>0.007510</td>\n",
       "      <td>99.876085</td>\n",
       "    </tr>\n",
       "    <tr>\n",
       "      <th>34</th>\n",
       "      <td>6.995511</td>\n",
       "      <td>7.004487</td>\n",
       "      <td>0.008975</td>\n",
       "      <td>99.871697</td>\n",
       "    </tr>\n",
       "    <tr>\n",
       "      <th>17</th>\n",
       "      <td>1.147588</td>\n",
       "      <td>1.149424</td>\n",
       "      <td>0.001836</td>\n",
       "      <td>99.839988</td>\n",
       "    </tr>\n",
       "    <tr>\n",
       "      <th>80</th>\n",
       "      <td>6.280846</td>\n",
       "      <td>6.270098</td>\n",
       "      <td>0.010748</td>\n",
       "      <td>99.828877</td>\n",
       "    </tr>\n",
       "    <tr>\n",
       "      <th>106</th>\n",
       "      <td>12.479970</td>\n",
       "      <td>12.453294</td>\n",
       "      <td>0.026676</td>\n",
       "      <td>99.786252</td>\n",
       "    </tr>\n",
       "    <tr>\n",
       "      <th>46</th>\n",
       "      <td>1.038688</td>\n",
       "      <td>1.041476</td>\n",
       "      <td>0.002787</td>\n",
       "      <td>99.731662</td>\n",
       "    </tr>\n",
       "    <tr>\n",
       "      <th>56</th>\n",
       "      <td>11.990054</td>\n",
       "      <td>11.953676</td>\n",
       "      <td>0.036378</td>\n",
       "      <td>99.696602</td>\n",
       "    </tr>\n",
       "    <tr>\n",
       "      <th>100</th>\n",
       "      <td>8.065104</td>\n",
       "      <td>8.024562</td>\n",
       "      <td>0.040542</td>\n",
       "      <td>99.497317</td>\n",
       "    </tr>\n",
       "    <tr>\n",
       "      <th>89</th>\n",
       "      <td>6.305160</td>\n",
       "      <td>6.269790</td>\n",
       "      <td>0.035370</td>\n",
       "      <td>99.439031</td>\n",
       "    </tr>\n",
       "    <tr>\n",
       "      <th>85</th>\n",
       "      <td>6.321908</td>\n",
       "      <td>6.286167</td>\n",
       "      <td>0.035741</td>\n",
       "      <td>99.434646</td>\n",
       "    </tr>\n",
       "    <tr>\n",
       "      <th>102</th>\n",
       "      <td>4.038767</td>\n",
       "      <td>4.065463</td>\n",
       "      <td>0.026696</td>\n",
       "      <td>99.339013</td>\n",
       "    </tr>\n",
       "    <tr>\n",
       "      <th>64</th>\n",
       "      <td>1.785343</td>\n",
       "      <td>1.773331</td>\n",
       "      <td>0.012012</td>\n",
       "      <td>99.327166</td>\n",
       "    </tr>\n",
       "    <tr>\n",
       "      <th>67</th>\n",
       "      <td>9.650792</td>\n",
       "      <td>9.722816</td>\n",
       "      <td>0.072024</td>\n",
       "      <td>99.253699</td>\n",
       "    </tr>\n",
       "    <tr>\n",
       "      <th>101</th>\n",
       "      <td>9.971505</td>\n",
       "      <td>9.891116</td>\n",
       "      <td>0.080390</td>\n",
       "      <td>99.193805</td>\n",
       "    </tr>\n",
       "    <tr>\n",
       "      <th>111</th>\n",
       "      <td>5.371150</td>\n",
       "      <td>5.313348</td>\n",
       "      <td>0.057803</td>\n",
       "      <td>98.923827</td>\n",
       "    </tr>\n",
       "    <tr>\n",
       "      <th>96</th>\n",
       "      <td>11.596643</td>\n",
       "      <td>11.470295</td>\n",
       "      <td>0.126348</td>\n",
       "      <td>98.910479</td>\n",
       "    </tr>\n",
       "    <tr>\n",
       "      <th>21</th>\n",
       "      <td>6.103489</td>\n",
       "      <td>6.178200</td>\n",
       "      <td>0.074711</td>\n",
       "      <td>98.775930</td>\n",
       "    </tr>\n",
       "    <tr>\n",
       "      <th>18</th>\n",
       "      <td>8.187905</td>\n",
       "      <td>8.082067</td>\n",
       "      <td>0.105838</td>\n",
       "      <td>98.707381</td>\n",
       "    </tr>\n",
       "    <tr>\n",
       "      <th>66</th>\n",
       "      <td>5.909637</td>\n",
       "      <td>5.986095</td>\n",
       "      <td>0.076458</td>\n",
       "      <td>98.706221</td>\n",
       "    </tr>\n",
       "  </tbody>\n",
       "</table>\n",
       "</div>"
      ],
      "text/plain": [
       "     Valores Reales  Valores Predichos  Diferencia Absoluta  \\\n",
       "73        13.045678          13.043473             0.002206   \n",
       "33         6.060243           6.067752             0.007510   \n",
       "34         6.995511           7.004487             0.008975   \n",
       "17         1.147588           1.149424             0.001836   \n",
       "80         6.280846           6.270098             0.010748   \n",
       "106       12.479970          12.453294             0.026676   \n",
       "46         1.038688           1.041476             0.002787   \n",
       "56        11.990054          11.953676             0.036378   \n",
       "100        8.065104           8.024562             0.040542   \n",
       "89         6.305160           6.269790             0.035370   \n",
       "85         6.321908           6.286167             0.035741   \n",
       "102        4.038767           4.065463             0.026696   \n",
       "64         1.785343           1.773331             0.012012   \n",
       "67         9.650792           9.722816             0.072024   \n",
       "101        9.971505           9.891116             0.080390   \n",
       "111        5.371150           5.313348             0.057803   \n",
       "96        11.596643          11.470295             0.126348   \n",
       "21         6.103489           6.178200             0.074711   \n",
       "18         8.187905           8.082067             0.105838   \n",
       "66         5.909637           5.986095             0.076458   \n",
       "\n",
       "     Porcentaje de Acierto  \n",
       "73               99.983093  \n",
       "33               99.876085  \n",
       "34               99.871697  \n",
       "17               99.839988  \n",
       "80               99.828877  \n",
       "106              99.786252  \n",
       "46               99.731662  \n",
       "56               99.696602  \n",
       "100              99.497317  \n",
       "89               99.439031  \n",
       "85               99.434646  \n",
       "102              99.339013  \n",
       "64               99.327166  \n",
       "67               99.253699  \n",
       "101              99.193805  \n",
       "111              98.923827  \n",
       "96               98.910479  \n",
       "21               98.775930  \n",
       "18               98.707381  \n",
       "66               98.706221  "
      ]
     },
     "execution_count": 171,
     "metadata": {},
     "output_type": "execute_result"
    }
   ],
   "source": [
    "results_gbr  = pd.DataFrame({\n",
    "    'Valores Reales': y_test.values,\n",
    "    'Valores Predichos': y_pred_gbr,\n",
    "    'Diferencia Absoluta': abs(y_test.values - y_pred_gbr),\n",
    "    'Porcentaje de Acierto': [\n",
    "        100 - (abs(real - pred) / abs(real) * 100) if real != 0 else None\n",
    "        for real, pred in zip(y_test.values, y_pred_gbr)\n",
    "    ]\n",
    "})\n",
    "\n",
    "results_gbr.sort_values(by='Porcentaje de Acierto', ascending=False).head(20)"
   ]
  },
  {
   "cell_type": "markdown",
   "id": "8073bbf2-a438-4b13-b191-37e5d6003eef",
   "metadata": {},
   "source": [
    "### Importancia de las caracteristicas"
   ]
  },
  {
   "cell_type": "code",
   "execution_count": 202,
   "id": "a82e5aab-0e4b-4faf-91c1-8723ba95e6f4",
   "metadata": {
    "tags": []
   },
   "outputs": [
    {
     "data": {
      "image/png": "[encoded data removed]",
      "text/plain": [
       "<Figure size 1000x600 with 1 Axes>"
      ]
     },
     "metadata": {},
     "output_type": "display_data"
    }
   ],
   "source": [
    "# Obtener la importancia de las características después de entrenar el modelo\n",
    "feature_importances = pd.DataFrame({\n",
    "    'Caracteristica': X_train.columns,\n",
    "    'Importancia': gbr_model.feature_importances_\n",
    "}).sort_values(by='Importancia', ascending=False)\n",
    "\n",
    "# Graficar las 10 características más importantes\n",
    "top_features = feature_importances.head(10)\n",
    "\n",
    "plt.figure(figsize=(10, 6))\n",
    "plt.barh(top_features['Caracteristica'], top_features['Importancia'], color='#82C6D1')\n",
    "plt.xlabel('Importancia')\n",
    "plt.ylabel('Caracteristica')\n",
    "plt.title('Top 5 de las caracteristicas mas importantes - Gradient Boosting')\n",
    "plt.gca().invert_yaxis()  # Mostrar la característica más importante en la parte superior\n",
    "plt.tight_layout()\n",
    "plt.show()"
   ]
  },
  {
   "cell_type": "markdown",
   "id": "3f24dc6e-f5f2-4175-83d8-3940b6efc1e1",
   "metadata": {},
   "source": [
    "### Validacion cruzada final"
   ]
  },
  {
   "cell_type": "code",
   "execution_count": 177,
   "id": "ca6da8ff-1167-428f-90b4-0d6aa80e9292",
   "metadata": {
    "tags": []
   },
   "outputs": [
    {
     "name": "stdout",
     "output_type": "stream",
     "text": [
      "Mean CV MAE: 1.332932037302276\n"
     ]
    }
   ],
   "source": [
    "cv_scores = cross_val_score(gbr_model, X_train, y_train, scoring='neg_mean_absolute_error', cv=5)\n",
    "print(\"Mean CV MAE:\", -cv_scores.mean())"
   ]
  },
  {
   "cell_type": "markdown",
   "id": "f63492df-ebbc-4a05-bff8-ec6038000be4",
   "metadata": {},
   "source": [
    "# XGB Regressor"
   ]
  },
  {
   "cell_type": "markdown",
   "id": "b8f313fe-842d-44cb-9090-35e24d889876",
   "metadata": {},
   "source": [
    "### Entrenamiento Simple"
   ]
  },
  {
   "cell_type": "code",
   "execution_count": 60,
   "id": "201c10f3-7b8b-42c4-b6c6-e7a8221ed66f",
   "metadata": {
    "tags": []
   },
   "outputs": [
    {
     "name": "stdout",
     "output_type": "stream",
     "text": [
      "MAE: 1.379298182288126, RMSE: 4.946501995782068\n"
     ]
    }
   ],
   "source": [
    "from xgboost import XGBRegressor\n",
    "\n",
    "xgb_model = XGBRegressor(random_state=42, n_estimators=100, learning_rate=0.1)\n",
    "xgb_model.fit(X_train, y_train)\n",
    "y_pred = xgb_model.predict(X_test)\n",
    "\n",
    "# Evaluar el rendimiento\n",
    "rmse = mean_squared_error(y_test, y_pred, squared=False)\n",
    "mae = mean_absolute_error(y_test, y_pred)\n",
    "print(f\"MAE: {mae}, RMSE: {rmse}\")\n"
   ]
  },
  {
   "cell_type": "markdown",
   "id": "d3f3a161-ca87-4646-8c73-808bb043b25b",
   "metadata": {},
   "source": [
    "### Validacion Cruzada"
   ]
  },
  {
   "cell_type": "code",
   "execution_count": 71,
   "id": "83e3f99e-6bb7-4916-ad91-9fd6a50bdd44",
   "metadata": {},
   "outputs": [
    {
     "name": "stdout",
     "output_type": "stream",
     "text": [
      "Mean CV MAE: 1.7747475062361666\n"
     ]
    }
   ],
   "source": [
    "cv_scores = cross_val_score(xgb_model, X_train, y_train, scoring='neg_mean_absolute_error', cv=5)\n",
    "print(\"Mean CV MAE:\", -cv_scores.mean())"
   ]
  },
  {
   "cell_type": "markdown",
   "id": "5b6d3989-5c6e-4e1e-be33-e3ff721cdc6c",
   "metadata": {},
   "source": [
    "### Randomized Search"
   ]
  },
  {
   "cell_type": "code",
   "execution_count": 73,
   "id": "aefb0366-e665-4329-9d37-1097f88b9cb8",
   "metadata": {
    "tags": []
   },
   "outputs": [
    {
     "name": "stdout",
     "output_type": "stream",
     "text": [
      "Best Parameters: {'subsample': 1.0, 'reg_lambda': 1, 'reg_alpha': 0, 'n_estimators': 100, 'max_depth': 3, 'learning_rate': 0.2, 'gamma': 0.1, 'colsample_bytree': 1.0}\n"
     ]
    }
   ],
   "source": [
    "# Espacio de búsqueda para Randomized Search\n",
    "param_distributions = {\n",
    "    'n_estimators': [100, 200, 500, 1000],\n",
    "    'learning_rate': [0.01, 0.05, 0.1, 0.2],\n",
    "    'max_depth': [3, 5, 10, None],\n",
    "    'subsample': [0.5, 0.7, 1.0],\n",
    "    'colsample_bytree': [0.5, 0.7, 1.0],\n",
    "    'gamma': [0, 0.1, 0.2, 1],\n",
    "    'reg_alpha': [0, 0.1, 1],\n",
    "    'reg_lambda': [1, 1.5, 2]\n",
    "}\n",
    "\n",
    "# Configurar Randomized Search CV\n",
    "random_search_xgb = RandomizedSearchCV(\n",
    "    estimator=XGBRegressor(random_state=42),\n",
    "    param_distributions=param_distributions,\n",
    "    n_iter=50,  # Número de combinaciones a probar\n",
    "    scoring='neg_mean_absolute_error',\n",
    "    cv=5,  # Validación cruzada de 5 pliegues\n",
    "    random_state=42,\n",
    "    n_jobs=-1  # Paralelismo\n",
    ")\n",
    "\n",
    "# Entrenar Randomized Search\n",
    "random_search_xgb.fit(X_train, y_train)\n",
    "\n",
    "# Obtener los mejores hiperparámetros y el mejor MAE\n",
    "best_params_xgb = random_search_xgb.best_params_\n",
    "\n",
    "print(f\"Best Parameters: {best_params_xgb}\")"
   ]
  },
  {
   "cell_type": "markdown",
   "id": "da935e47-25f6-47b6-9692-bc627d789a9c",
   "metadata": {},
   "source": [
    "### Entrenamiento Final"
   ]
  },
  {
   "cell_type": "code",
   "execution_count": 189,
   "id": "a1911fc1-bbd9-4c61-a92c-deb51602bfca",
   "metadata": {
    "tags": []
   },
   "outputs": [
    {
     "data": {
      "text/html": [
       "<style>#sk-container-id-11 {color: black;background-color: white;}#sk-container-id-11 pre{padding: 0;}#sk-container-id-11 div.sk-toggleable {background-color: white;}#sk-container-id-11 label.sk-toggleable__label {cursor: pointer;display: block;width: 100%;margin-bottom: 0;padding: 0.3em;box-sizing: border-box;text-align: center;}#sk-container-id-11 label.sk-toggleable__label-arrow:before {content: \"▸\";float: left;margin-right: 0.25em;color: #696969;}#sk-container-id-11 label.sk-toggleable__label-arrow:hover:before {color: black;}#sk-container-id-11 div.sk-estimator:hover label.sk-toggleable__label-arrow:before {color: black;}#sk-container-id-11 div.sk-toggleable__content {max-height: 0;max-width: 0;overflow: hidden;text-align: left;background-color: #f0f8ff;}#sk-container-id-11 div.sk-toggleable__content pre {margin: 0.2em;color: black;border-radius: 0.25em;background-color: #f0f8ff;}#sk-container-id-11 input.sk-toggleable__control:checked~div.sk-toggleable__content {max-height: 200px;max-width: 100%;overflow: auto;}#sk-container-id-11 input.sk-toggleable__control:checked~label.sk-toggleable__label-arrow:before {content: \"▾\";}#sk-container-id-11 div.sk-estimator input.sk-toggleable__control:checked~label.sk-toggleable__label {background-color: #d4ebff;}#sk-container-id-11 div.sk-label input.sk-toggleable__control:checked~label.sk-toggleable__label {background-color: #d4ebff;}#sk-container-id-11 input.sk-hidden--visually {border: 0;clip: rect(1px 1px 1px 1px);clip: rect(1px, 1px, 1px, 1px);height: 1px;margin: -1px;overflow: hidden;padding: 0;position: absolute;width: 1px;}#sk-container-id-11 div.sk-estimator {font-family: monospace;background-color: #f0f8ff;border: 1px dotted black;border-radius: 0.25em;box-sizing: border-box;margin-bottom: 0.5em;}#sk-container-id-11 div.sk-estimator:hover {background-color: #d4ebff;}#sk-container-id-11 div.sk-parallel-item::after {content: \"\";width: 100%;border-bottom: 1px solid gray;flex-grow: 1;}#sk-container-id-11 div.sk-label:hover label.sk-toggleable__label {background-color: #d4ebff;}#sk-container-id-11 div.sk-serial::before {content: \"\";position: absolute;border-left: 1px solid gray;box-sizing: border-box;top: 0;bottom: 0;left: 50%;z-index: 0;}#sk-container-id-11 div.sk-serial {display: flex;flex-direction: column;align-items: center;background-color: white;padding-right: 0.2em;padding-left: 0.2em;position: relative;}#sk-container-id-11 div.sk-item {position: relative;z-index: 1;}#sk-container-id-11 div.sk-parallel {display: flex;align-items: stretch;justify-content: center;background-color: white;position: relative;}#sk-container-id-11 div.sk-item::before, #sk-container-id-11 div.sk-parallel-item::before {content: \"\";position: absolute;border-left: 1px solid gray;box-sizing: border-box;top: 0;bottom: 0;left: 50%;z-index: -1;}#sk-container-id-11 div.sk-parallel-item {display: flex;flex-direction: column;z-index: 1;position: relative;background-color: white;}#sk-container-id-11 div.sk-parallel-item:first-child::after {align-self: flex-end;width: 50%;}#sk-container-id-11 div.sk-parallel-item:last-child::after {align-self: flex-start;width: 50%;}#sk-container-id-11 div.sk-parallel-item:only-child::after {width: 0;}#sk-container-id-11 div.sk-dashed-wrapped {border: 1px dashed gray;margin: 0 0.4em 0.5em 0.4em;box-sizing: border-box;padding-bottom: 0.4em;background-color: white;}#sk-container-id-11 div.sk-label label {font-family: monospace;font-weight: bold;display: inline-block;line-height: 1.2em;}#sk-container-id-11 div.sk-label-container {text-align: center;}#sk-container-id-11 div.sk-container {/* jupyter's `normalize.less` sets `[hidden] { display: none; }` but bootstrap.min.css set `[hidden] { display: none !important; }` so we also need the `!important` here to be able to override the default hidden behavior on the sphinx rendered scikit-learn.org. See: https://github.com/scikit-learn/scikit-learn/issues/21755 */display: inline-block !important;position: relative;}#sk-container-id-11 div.sk-text-repr-fallback {display: none;}</style><div id=\"sk-container-id-11\" class=\"sk-top-container\"><div class=\"sk-text-repr-fallback\"><pre>XGBRegressor(base_score=None, booster=None, callbacks=None,\n",
       "             colsample_bylevel=None, colsample_bynode=None,\n",
       "             colsample_bytree=1.0, device=None, early_stopping_rounds=None,\n",
       "             enable_categorical=False, eval_metric=None, feature_types=None,\n",
       "             gamma=0.1, grow_policy=None, importance_type=None,\n",
       "             interaction_constraints=None, learning_rate=0.2, max_bin=None,\n",
       "             max_cat_threshold=None, max_cat_to_onehot=None,\n",
       "             max_delta_step=None, max_depth=3, max_leaves=None,\n",
       "             min_child_weight=None, missing=nan, monotone_constraints=None,\n",
       "             multi_strategy=None, n_estimators=100, n_jobs=None,\n",
       "             num_parallel_tree=None, random_state=42, ...)</pre><b>In a Jupyter environment, please rerun this cell to show the HTML representation or trust the notebook. <br />On GitHub, the HTML representation is unable to render, please try loading this page with nbviewer.org.</b></div><div class=\"sk-container\" hidden><div class=\"sk-item\"><div class=\"sk-estimator sk-toggleable\"><input class=\"sk-toggleable__control sk-hidden--visually\" id=\"sk-estimator-id-11\" type=\"checkbox\" checked><label for=\"sk-estimator-id-11\" class=\"sk-toggleable__label sk-toggleable__label-arrow\">XGBRegressor</label><div class=\"sk-toggleable__content\"><pre>XGBRegressor(base_score=None, booster=None, callbacks=None,\n",
       "             colsample_bylevel=None, colsample_bynode=None,\n",
       "             colsample_bytree=1.0, device=None, early_stopping_rounds=None,\n",
       "             enable_categorical=False, eval_metric=None, feature_types=None,\n",
       "             gamma=0.1, grow_policy=None, importance_type=None,\n",
       "             interaction_constraints=None, learning_rate=0.2, max_bin=None,\n",
       "             max_cat_threshold=None, max_cat_to_onehot=None,\n",
       "             max_delta_step=None, max_depth=3, max_leaves=None,\n",
       "             min_child_weight=None, missing=nan, monotone_constraints=None,\n",
       "             multi_strategy=None, n_estimators=100, n_jobs=None,\n",
       "             num_parallel_tree=None, random_state=42, ...)</pre></div></div></div></div></div>"
      ],
      "text/plain": [
       "XGBRegressor(base_score=None, booster=None, callbacks=None,\n",
       "             colsample_bylevel=None, colsample_bynode=None,\n",
       "             colsample_bytree=1.0, device=None, early_stopping_rounds=None,\n",
       "             enable_categorical=False, eval_metric=None, feature_types=None,\n",
       "             gamma=0.1, grow_policy=None, importance_type=None,\n",
       "             interaction_constraints=None, learning_rate=0.2, max_bin=None,\n",
       "             max_cat_threshold=None, max_cat_to_onehot=None,\n",
       "             max_delta_step=None, max_depth=3, max_leaves=None,\n",
       "             min_child_weight=None, missing=nan, monotone_constraints=None,\n",
       "             multi_strategy=None, n_estimators=100, n_jobs=None,\n",
       "             num_parallel_tree=None, random_state=42, ...)"
      ]
     },
     "execution_count": 189,
     "metadata": {},
     "output_type": "execute_result"
    }
   ],
   "source": [
    "from xgboost import XGBRegressor\n",
    "\n",
    "xgb_model = XGBRegressor(\n",
    "    subsample=1.0,\n",
    "    reg_lambda=1,\n",
    "    reg_alpha=0,\n",
    "    n_estimators=100,\n",
    "    max_depth=3,\n",
    "    learning_rate=0.2,\n",
    "    gamma=0.1,\n",
    "    colsample_bytree=1.0,\n",
    "    random_state=42\n",
    ")\n",
    "\n",
    "# Entrenar el modelo con el conjunto de entrenamiento\n",
    "xgb_model.fit(X_train, y_train)"
   ]
  },
  {
   "cell_type": "markdown",
   "id": "533b7250-c5b6-4b2d-86d6-4c5ea79107b8",
   "metadata": {},
   "source": [
    "### Validacion"
   ]
  },
  {
   "cell_type": "code",
   "execution_count": 191,
   "id": "056e2da9-1e00-4f83-93a8-63268d48c2f3",
   "metadata": {
    "tags": []
   },
   "outputs": [
    {
     "name": "stdout",
     "output_type": "stream",
     "text": [
      "XGB Regressor\n",
      "Mean Absolute Error (MAE): 1.3639388874052727\n",
      "Mean Squared Error (MSE): 25.375582170277326\n",
      "R² Score: 0.6598654811363958\n"
     ]
    }
   ],
   "source": [
    "y_pred_xgb = xgb_model.predict(X_test)\n",
    "\n",
    "mae_xgb = mean_absolute_error(y_test, y_pred_xgb)\n",
    "mse_xgb = mean_squared_error(y_test, y_pred_xgb)\n",
    "r2_xgb = r2_score(y_test, y_pred_xgb)\n",
    "\n",
    "print(\"XGB Regressor\")\n",
    "print(f\"Mean Absolute Error (MAE): {mae_xgb}\")\n",
    "print(f\"Mean Squared Error (MSE): {mse_xgb}\")\n",
    "print(f\"R² Score: {r2_xgb}\")"
   ]
  },
  {
   "cell_type": "code",
   "execution_count": 85,
   "id": "cacf6264-42d6-4c00-87d8-1921a6db9df7",
   "metadata": {
    "tags": []
   },
   "outputs": [
    {
     "data": {
      "image/png": "[encoded data removed]",
      "text/plain": [
       "<Figure size 800x600 with 1 Axes>"
      ]
     },
     "metadata": {},
     "output_type": "display_data"
    }
   ],
   "source": [
    "plt.figure(figsize=(8, 6))\n",
    "plt.scatter(y_test, y_pred_xgb, alpha=0.7)\n",
    "plt.plot([y_test.min(), y_test.max()], [y_test.min(), y_test.max()], 'k--', lw=2)\n",
    "plt.xlabel('Valores Reales')\n",
    "plt.ylabel('Predicciones')\n",
    "plt.title('Predicciones vs Valores Reales')\n",
    "plt.show()"
   ]
  },
  {
   "cell_type": "code",
   "execution_count": 87,
   "id": "d2b07e5b-b720-45a1-88c8-0cf696b91751",
   "metadata": {
    "tags": []
   },
   "outputs": [
    {
     "data": {
      "text/html": [
       "<div>\n",
       "<style scoped>\n",
       "    .dataframe tbody tr th:only-of-type {\n",
       "        vertical-align: middle;\n",
       "    }\n",
       "\n",
       "    .dataframe tbody tr th {\n",
       "        vertical-align: top;\n",
       "    }\n",
       "\n",
       "    .dataframe thead th {\n",
       "        text-align: right;\n",
       "    }\n",
       "</style>\n",
       "<table border=\"1\" class=\"dataframe\">\n",
       "  <thead>\n",
       "    <tr style=\"text-align: right;\">\n",
       "      <th></th>\n",
       "      <th>Valores Reales</th>\n",
       "      <th>Valores Predichos</th>\n",
       "      <th>Diferencia Absoluta</th>\n",
       "      <th>Porcentaje de Acierto</th>\n",
       "    </tr>\n",
       "  </thead>\n",
       "  <tbody>\n",
       "    <tr>\n",
       "      <th>85</th>\n",
       "      <td>6.321908</td>\n",
       "      <td>6.314469</td>\n",
       "      <td>0.007439</td>\n",
       "      <td>99.882323</td>\n",
       "    </tr>\n",
       "    <tr>\n",
       "      <th>1</th>\n",
       "      <td>4.750326</td>\n",
       "      <td>4.777405</td>\n",
       "      <td>0.027079</td>\n",
       "      <td>99.429953</td>\n",
       "    </tr>\n",
       "    <tr>\n",
       "      <th>106</th>\n",
       "      <td>12.479970</td>\n",
       "      <td>12.579380</td>\n",
       "      <td>0.099410</td>\n",
       "      <td>99.203440</td>\n",
       "    </tr>\n",
       "    <tr>\n",
       "      <th>73</th>\n",
       "      <td>13.045678</td>\n",
       "      <td>12.920443</td>\n",
       "      <td>0.125236</td>\n",
       "      <td>99.040020</td>\n",
       "    </tr>\n",
       "    <tr>\n",
       "      <th>69</th>\n",
       "      <td>16.182109</td>\n",
       "      <td>16.359240</td>\n",
       "      <td>0.177130</td>\n",
       "      <td>98.905394</td>\n",
       "    </tr>\n",
       "    <tr>\n",
       "      <th>90</th>\n",
       "      <td>2.036666</td>\n",
       "      <td>2.013722</td>\n",
       "      <td>0.022944</td>\n",
       "      <td>98.873432</td>\n",
       "    </tr>\n",
       "    <tr>\n",
       "      <th>83</th>\n",
       "      <td>6.037412</td>\n",
       "      <td>6.117161</td>\n",
       "      <td>0.079749</td>\n",
       "      <td>98.679088</td>\n",
       "    </tr>\n",
       "    <tr>\n",
       "      <th>76</th>\n",
       "      <td>8.197486</td>\n",
       "      <td>8.053106</td>\n",
       "      <td>0.144380</td>\n",
       "      <td>98.238733</td>\n",
       "    </tr>\n",
       "    <tr>\n",
       "      <th>49</th>\n",
       "      <td>23.035524</td>\n",
       "      <td>22.595566</td>\n",
       "      <td>0.439958</td>\n",
       "      <td>98.090087</td>\n",
       "    </tr>\n",
       "    <tr>\n",
       "      <th>53</th>\n",
       "      <td>10.708951</td>\n",
       "      <td>10.920555</td>\n",
       "      <td>0.211604</td>\n",
       "      <td>98.024046</td>\n",
       "    </tr>\n",
       "    <tr>\n",
       "      <th>56</th>\n",
       "      <td>11.990054</td>\n",
       "      <td>12.235367</td>\n",
       "      <td>0.245313</td>\n",
       "      <td>97.954031</td>\n",
       "    </tr>\n",
       "    <tr>\n",
       "      <th>41</th>\n",
       "      <td>1.847919</td>\n",
       "      <td>1.800320</td>\n",
       "      <td>0.047599</td>\n",
       "      <td>97.424175</td>\n",
       "    </tr>\n",
       "    <tr>\n",
       "      <th>87</th>\n",
       "      <td>28.172891</td>\n",
       "      <td>28.940926</td>\n",
       "      <td>0.768035</td>\n",
       "      <td>97.273851</td>\n",
       "    </tr>\n",
       "    <tr>\n",
       "      <th>10</th>\n",
       "      <td>3.741104</td>\n",
       "      <td>3.848345</td>\n",
       "      <td>0.107240</td>\n",
       "      <td>97.133457</td>\n",
       "    </tr>\n",
       "    <tr>\n",
       "      <th>89</th>\n",
       "      <td>6.305160</td>\n",
       "      <td>6.119961</td>\n",
       "      <td>0.185198</td>\n",
       "      <td>97.062751</td>\n",
       "    </tr>\n",
       "    <tr>\n",
       "      <th>67</th>\n",
       "      <td>9.650792</td>\n",
       "      <td>9.953624</td>\n",
       "      <td>0.302831</td>\n",
       "      <td>96.862109</td>\n",
       "    </tr>\n",
       "    <tr>\n",
       "      <th>107</th>\n",
       "      <td>19.308623</td>\n",
       "      <td>19.967630</td>\n",
       "      <td>0.659007</td>\n",
       "      <td>96.586981</td>\n",
       "    </tr>\n",
       "    <tr>\n",
       "      <th>61</th>\n",
       "      <td>3.728365</td>\n",
       "      <td>3.857837</td>\n",
       "      <td>0.129472</td>\n",
       "      <td>96.527369</td>\n",
       "    </tr>\n",
       "    <tr>\n",
       "      <th>55</th>\n",
       "      <td>12.992755</td>\n",
       "      <td>12.532953</td>\n",
       "      <td>0.459802</td>\n",
       "      <td>96.461091</td>\n",
       "    </tr>\n",
       "    <tr>\n",
       "      <th>64</th>\n",
       "      <td>1.785343</td>\n",
       "      <td>1.721536</td>\n",
       "      <td>0.063808</td>\n",
       "      <td>96.426030</td>\n",
       "    </tr>\n",
       "  </tbody>\n",
       "</table>\n",
       "</div>"
      ],
      "text/plain": [
       "     Valores Reales  Valores Predichos  Diferencia Absoluta  \\\n",
       "85         6.321908           6.314469             0.007439   \n",
       "1          4.750326           4.777405             0.027079   \n",
       "106       12.479970          12.579380             0.099410   \n",
       "73        13.045678          12.920443             0.125236   \n",
       "69        16.182109          16.359240             0.177130   \n",
       "90         2.036666           2.013722             0.022944   \n",
       "83         6.037412           6.117161             0.079749   \n",
       "76         8.197486           8.053106             0.144380   \n",
       "49        23.035524          22.595566             0.439958   \n",
       "53        10.708951          10.920555             0.211604   \n",
       "56        11.990054          12.235367             0.245313   \n",
       "41         1.847919           1.800320             0.047599   \n",
       "87        28.172891          28.940926             0.768035   \n",
       "10         3.741104           3.848345             0.107240   \n",
       "89         6.305160           6.119961             0.185198   \n",
       "67         9.650792           9.953624             0.302831   \n",
       "107       19.308623          19.967630             0.659007   \n",
       "61         3.728365           3.857837             0.129472   \n",
       "55        12.992755          12.532953             0.459802   \n",
       "64         1.785343           1.721536             0.063808   \n",
       "\n",
       "     Porcentaje de Acierto  \n",
       "85               99.882323  \n",
       "1                99.429953  \n",
       "106              99.203440  \n",
       "73               99.040020  \n",
       "69               98.905394  \n",
       "90               98.873432  \n",
       "83               98.679088  \n",
       "76               98.238733  \n",
       "49               98.090087  \n",
       "53               98.024046  \n",
       "56               97.954031  \n",
       "41               97.424175  \n",
       "87               97.273851  \n",
       "10               97.133457  \n",
       "89               97.062751  \n",
       "67               96.862109  \n",
       "107              96.586981  \n",
       "61               96.527369  \n",
       "55               96.461091  \n",
       "64               96.426030  "
      ]
     },
     "execution_count": 87,
     "metadata": {},
     "output_type": "execute_result"
    }
   ],
   "source": [
    "results_xgb = pd.DataFrame({\n",
    "    'Valores Reales': y_test.values,\n",
    "    'Valores Predichos': y_pred_xgb,\n",
    "    'Diferencia Absoluta': abs(y_test.values - y_pred_xgb),\n",
    "    'Porcentaje de Acierto': [\n",
    "        100 - (abs(real - pred) / abs(real) * 100) if real != 0 else None\n",
    "        for real, pred in zip(y_test.values, y_pred_xgb)\n",
    "    ]\n",
    "})\n",
    "\n",
    "results_xgb.sort_values(by='Porcentaje de Acierto', ascending=False).head(20)"
   ]
  },
  {
   "cell_type": "markdown",
   "id": "27d196be-8c8e-4a56-b255-b2f8c867a25a",
   "metadata": {},
   "source": [
    "### Importancia de las caracteristicas"
   ]
  },
  {
   "cell_type": "code",
   "execution_count": 90,
   "id": "49f4caf2-2136-4ada-a303-2b0b6fe450ec",
   "metadata": {
    "tags": []
   },
   "outputs": [
    {
     "data": {
      "image/png": "[encoded data removed]",
      "text/plain": [
       "<Figure size 1000x600 with 1 Axes>"
      ]
     },
     "metadata": {},
     "output_type": "display_data"
    }
   ],
   "source": [
    "# Obtener la importancia de las características después de entrenar el modelo\n",
    "feature_importances = pd.DataFrame({\n",
    "    'Caracteristica': X_train.columns,\n",
    "    'Importancia': xgb_model.feature_importances_\n",
    "}).sort_values(by='Importancia', ascending=False)\n",
    "\n",
    "# Graficar las 10 características más importantes\n",
    "top_features = feature_importances.head(5)\n",
    "\n",
    "plt.figure(figsize=(10, 6))\n",
    "plt.barh(top_features['Caracteristica'], top_features['Importancia'])\n",
    "plt.xlabel('Importancia')\n",
    "plt.ylabel('Caracteristica')\n",
    "plt.title('Top 5 de las caracteristicas mas importantes - XGBoost Regressor')\n",
    "plt.gca().invert_yaxis()  # Mostrar la característica más importante en la parte superior\n",
    "plt.tight_layout()\n",
    "plt.show()"
   ]
  },
  {
   "cell_type": "code",
   "execution_count": 92,
   "id": "4084a44d-8a41-47ae-8cfa-e063fadb5559",
   "metadata": {
    "tags": []
   },
   "outputs": [
    {
     "data": {
      "image/png": "[encoded data removed]",
      "text/plain": [
       "<Figure size 640x480 with 1 Axes>"
      ]
     },
     "metadata": {},
     "output_type": "display_data"
    }
   ],
   "source": [
    "from xgboost import plot_importance\n",
    "plot_importance(xgb_model, max_num_features=5)\n",
    "plt.show()"
   ]
  },
  {
   "cell_type": "markdown",
   "id": "72b4a2b5-ddbf-4e91-a8c3-ec2b8bf6de32",
   "metadata": {},
   "source": [
    "### Validacion cruzada final"
   ]
  },
  {
   "cell_type": "code",
   "execution_count": 193,
   "id": "36bc8f2f-04f0-4a4c-b89a-bcc24010e7e9",
   "metadata": {
    "tags": []
   },
   "outputs": [
    {
     "name": "stdout",
     "output_type": "stream",
     "text": [
      "Mean CV MAE: 1.656899891013495\n"
     ]
    }
   ],
   "source": [
    "cv_scores = cross_val_score(xgb_model, X_train, y_train, scoring='neg_mean_absolute_error', cv=5)\n",
    "print(\"Mean CV MAE:\", -cv_scores.mean())"
   ]
  },
  {
   "cell_type": "code",
   "execution_count": 198,
   "id": "497b364f-1652-426b-bf37-aac2173ddcae",
   "metadata": {
    "tags": []
   },
   "outputs": [
    {
     "data": {
      "image/png": "[encoded data removed]",
      "text/plain": [
       "<Figure size 640x480 with 1 Axes>"
      ]
     },
     "metadata": {},
     "output_type": "display_data"
    },
    {
     "data": {
      "image/png": "[encoded data removed]",
      "text/plain": [
       "<Figure size 640x480 with 1 Axes>"
      ]
     },
     "metadata": {},
     "output_type": "display_data"
    }
   ],
   "source": [
    "models = ['Gradient Boosting', 'Random Forest', 'XGBoost']\n",
    "mae = [1.3072, 0.8804, 1.3639]\n",
    "mse = [12.7548, 10.3881, 25.3756]\n",
    "r2 = [0.8290, 0.8545, 0.6599]\n",
    "\n",
    "x = np.arange(len(models))\n",
    "\n",
    "plt.bar(x, r2, color='#CFB6DC')\n",
    "\n",
    "for i, val in enumerate(r2):\n",
    "    plt.text(i, val, f'{val:.4f}', ha='center', va='bottom')\n",
    "\n",
    "plt.xticks(x, models)\n",
    "plt.xlabel('Modelos')\n",
    "plt.ylabel('R')\n",
    "plt.title('Coeficiente de determinacion')\n",
    "plt.tight_layout()\n",
    "plt.show()\n",
    "\n",
    "x = np.arange(len(models))\n",
    "width = 0.25\n",
    "\n",
    "plt.bar(x - width, mae, width, label='MAE', color='skyblue')\n",
    "plt.bar(x, mse, width, label='MSE', color='blue')\n",
    "\n",
    "for i, val in enumerate(mae):\n",
    "    plt.text(i - width, val, f'{val:.4f}', ha='center', va='bottom', fontsize=9)  # MAE\n",
    "for i, val in enumerate(mse):\n",
    "    plt.text(i, val, f'{val:.4f}', ha='center', va='bottom', fontsize=9)  # MSE\n",
    "\n",
    "plt.xticks(x, models)\n",
    "plt.xlabel('Modelos')\n",
    "plt.ylabel('Métricas')\n",
    "plt.title('Comparación de Métricas por Modelo')\n",
    "plt.legend()\n",
    "plt.tight_layout()\n",
    "plt.show()"
   ]
  },
  {
   "cell_type": "code",
   "execution_count": 200,
   "id": "89a90b9d-6812-43d5-a3cf-a9add477740c",
   "metadata": {
    "tags": []
   },
   "outputs": [
    {
     "data": {
      "image/png": "[encoded data removed]",
      "text/plain": [
       "<Figure size 640x480 with 1 Axes>"
      ]
     },
     "metadata": {},
     "output_type": "display_data"
    }
   ],
   "source": [
    "b = [1.3329,1.6239,1.6569]\n",
    "\n",
    "x = np.arange(len(models))\n",
    "\n",
    "plt.bar(x, b, color='#CFB6DC')\n",
    "\n",
    "for i, val in enumerate(b):\n",
    "    plt.text(i, val, f'{val:.4f}', ha='center', va='bottom')\n",
    "\n",
    "plt.xticks(x, models)\n",
    "plt.title('Validacion cruzada')\n",
    "plt.tight_layout()\n",
    "plt.show()"
   ]
  },
  {
   "cell_type": "markdown",
   "id": "d13f6d28-8e50-4e26-8502-910037327572",
   "metadata": {},
   "source": [
    "# VALIDACION"
   ]
  },
  {
   "cell_type": "code",
   "execution_count": 206,
   "id": "a6b8d5fc-9523-4123-9592-6416a2656dc0",
   "metadata": {
    "tags": []
   },
   "outputs": [
    {
     "data": {
      "text/html": [
       "<div>\n",
       "<style scoped>\n",
       "    .dataframe tbody tr th:only-of-type {\n",
       "        vertical-align: middle;\n",
       "    }\n",
       "\n",
       "    .dataframe tbody tr th {\n",
       "        vertical-align: top;\n",
       "    }\n",
       "\n",
       "    .dataframe thead th {\n",
       "        text-align: right;\n",
       "    }\n",
       "</style>\n",
       "<table border=\"1\" class=\"dataframe\">\n",
       "  <thead>\n",
       "    <tr style=\"text-align: right;\">\n",
       "      <th></th>\n",
       "      <th>Key</th>\n",
       "      <th>Parent Key</th>\n",
       "      <th>Priority</th>\n",
       "      <th>Story Points</th>\n",
       "      <th>Assignee</th>\n",
       "      <th>Issue Type</th>\n",
       "      <th>Sprint</th>\n",
       "      <th>Team</th>\n",
       "      <th>Resolution Time</th>\n",
       "      <th>Blocked</th>\n",
       "      <th>Member Efficiency per ticket</th>\n",
       "      <th>Sprint Overdue</th>\n",
       "      <th>Days to Sprint End</th>\n",
       "      <th>Complexity</th>\n",
       "      <th>Total Story Points per Sprint and team</th>\n",
       "      <th>Total Story Points per Member per Sprint</th>\n",
       "      <th>Average Team Efficiency per Sprint</th>\n",
       "      <th>Block Rate by Issue Type</th>\n",
       "      <th>Estimation Accurate</th>\n",
       "    </tr>\n",
       "  </thead>\n",
       "  <tbody>\n",
       "    <tr>\n",
       "      <th>0</th>\n",
       "      <td>NGP-1035</td>\n",
       "      <td>NGP-1025</td>\n",
       "      <td>Low</td>\n",
       "      <td>5.0</td>\n",
       "      <td>Juan.hernandez</td>\n",
       "      <td>Story</td>\n",
       "      <td>Team Aether Sprint 9</td>\n",
       "      <td>Team Aether</td>\n",
       "      <td>15.346312</td>\n",
       "      <td>1</td>\n",
       "      <td>0.325811</td>\n",
       "      <td>1</td>\n",
       "      <td>-1</td>\n",
       "      <td>Medium</td>\n",
       "      <td>37.0</td>\n",
       "      <td>23.0</td>\n",
       "      <td>3.188384</td>\n",
       "      <td>0.500000</td>\n",
       "      <td>0</td>\n",
       "    </tr>\n",
       "    <tr>\n",
       "      <th>1</th>\n",
       "      <td>NGP-1036</td>\n",
       "      <td>NGP-1070</td>\n",
       "      <td>Low</td>\n",
       "      <td>8.0</td>\n",
       "      <td>Juan.hernandez</td>\n",
       "      <td>Story</td>\n",
       "      <td>Team Aether Sprint 10</td>\n",
       "      <td>Team Aether</td>\n",
       "      <td>14.541528</td>\n",
       "      <td>0</td>\n",
       "      <td>0.550149</td>\n",
       "      <td>1</td>\n",
       "      <td>-1</td>\n",
       "      <td>High</td>\n",
       "      <td>45.0</td>\n",
       "      <td>31.0</td>\n",
       "      <td>241.602579</td>\n",
       "      <td>0.000000</td>\n",
       "      <td>0</td>\n",
       "    </tr>\n",
       "    <tr>\n",
       "      <th>2</th>\n",
       "      <td>NGP-1037</td>\n",
       "      <td>NGP-1070</td>\n",
       "      <td>Low</td>\n",
       "      <td>8.0</td>\n",
       "      <td>Juan.hernandez</td>\n",
       "      <td>Story</td>\n",
       "      <td>Team Aether Sprint 10</td>\n",
       "      <td>Team Aether</td>\n",
       "      <td>6.449189</td>\n",
       "      <td>0</td>\n",
       "      <td>1.240466</td>\n",
       "      <td>1</td>\n",
       "      <td>-1</td>\n",
       "      <td>High</td>\n",
       "      <td>45.0</td>\n",
       "      <td>31.0</td>\n",
       "      <td>241.602579</td>\n",
       "      <td>0.000000</td>\n",
       "      <td>1</td>\n",
       "    </tr>\n",
       "    <tr>\n",
       "      <th>3</th>\n",
       "      <td>NGP-1042</td>\n",
       "      <td>NGP-1449</td>\n",
       "      <td>Low</td>\n",
       "      <td>5.0</td>\n",
       "      <td>Juan.hernandez</td>\n",
       "      <td>Story</td>\n",
       "      <td>Team Aether Sprint 13</td>\n",
       "      <td>Team Aether</td>\n",
       "      <td>9.453486</td>\n",
       "      <td>1</td>\n",
       "      <td>0.528905</td>\n",
       "      <td>0</td>\n",
       "      <td>0</td>\n",
       "      <td>Medium</td>\n",
       "      <td>29.0</td>\n",
       "      <td>13.0</td>\n",
       "      <td>3.471477</td>\n",
       "      <td>0.333333</td>\n",
       "      <td>0</td>\n",
       "    </tr>\n",
       "    <tr>\n",
       "      <th>4</th>\n",
       "      <td>NGP-1043</td>\n",
       "      <td>NGP-1449</td>\n",
       "      <td>Low</td>\n",
       "      <td>5.0</td>\n",
       "      <td>Juan.hernandez</td>\n",
       "      <td>Story</td>\n",
       "      <td>Team Aether Sprint 12</td>\n",
       "      <td>Team Aether</td>\n",
       "      <td>14.172117</td>\n",
       "      <td>1</td>\n",
       "      <td>0.352805</td>\n",
       "      <td>0</td>\n",
       "      <td>0</td>\n",
       "      <td>Medium</td>\n",
       "      <td>91.0</td>\n",
       "      <td>67.0</td>\n",
       "      <td>317.951894</td>\n",
       "      <td>0.444444</td>\n",
       "      <td>0</td>\n",
       "    </tr>\n",
       "  </tbody>\n",
       "</table>\n",
       "</div>"
      ],
      "text/plain": [
       "        Key Parent Key Priority  Story Points        Assignee Issue Type  \\\n",
       "0  NGP-1035   NGP-1025      Low           5.0  Juan.hernandez      Story   \n",
       "1  NGP-1036   NGP-1070      Low           8.0  Juan.hernandez      Story   \n",
       "2  NGP-1037   NGP-1070      Low           8.0  Juan.hernandez      Story   \n",
       "3  NGP-1042   NGP-1449      Low           5.0  Juan.hernandez      Story   \n",
       "4  NGP-1043   NGP-1449      Low           5.0  Juan.hernandez      Story   \n",
       "\n",
       "                  Sprint         Team  Resolution Time  Blocked  \\\n",
       "0   Team Aether Sprint 9  Team Aether        15.346312        1   \n",
       "1  Team Aether Sprint 10  Team Aether        14.541528        0   \n",
       "2  Team Aether Sprint 10  Team Aether         6.449189        0   \n",
       "3  Team Aether Sprint 13  Team Aether         9.453486        1   \n",
       "4  Team Aether Sprint 12  Team Aether        14.172117        1   \n",
       "\n",
       "   Member Efficiency per ticket  Sprint Overdue  Days to Sprint End  \\\n",
       "0                      0.325811               1                  -1   \n",
       "1                      0.550149               1                  -1   \n",
       "2                      1.240466               1                  -1   \n",
       "3                      0.528905               0                   0   \n",
       "4                      0.352805               0                   0   \n",
       "\n",
       "  Complexity  Total Story Points per Sprint and team  \\\n",
       "0     Medium                                    37.0   \n",
       "1       High                                    45.0   \n",
       "2       High                                    45.0   \n",
       "3     Medium                                    29.0   \n",
       "4     Medium                                    91.0   \n",
       "\n",
       "   Total Story Points per Member per Sprint  \\\n",
       "0                                      23.0   \n",
       "1                                      31.0   \n",
       "2                                      31.0   \n",
       "3                                      13.0   \n",
       "4                                      67.0   \n",
       "\n",
       "   Average Team Efficiency per Sprint  Block Rate by Issue Type  \\\n",
       "0                            3.188384                  0.500000   \n",
       "1                          241.602579                  0.000000   \n",
       "2                          241.602579                  0.000000   \n",
       "3                            3.471477                  0.333333   \n",
       "4                          317.951894                  0.444444   \n",
       "\n",
       "   Estimation Accurate  \n",
       "0                    0  \n",
       "1                    0  \n",
       "2                    1  \n",
       "3                    0  \n",
       "4                    0  "
      ]
     },
     "execution_count": 206,
     "metadata": {},
     "output_type": "execute_result"
    }
   ],
   "source": [
    "# carga dataset\n",
    "file_path = './DATA/issues_history_eda_fe.csv'\n",
    "data = pd.read_csv(file_path, encoding='utf-8')\n",
    "data.head()"
   ]
  },
  {
   "cell_type": "code",
   "execution_count": 208,
   "id": "7392ad90-07d5-45d0-8387-8c55a3e65489",
   "metadata": {
    "tags": []
   },
   "outputs": [
    {
     "name": "stdout",
     "output_type": "stream",
     "text": [
      "MAE base (estimaciones manuales): 6.495037195881937\n"
     ]
    }
   ],
   "source": [
    "# Define a function to estimate resolution time in days based on Story Points\n",
    "def estimate_resolution_time_from_story_points(story_points):\n",
    "    # Assign resolution time based on the given ranges\n",
    "    if story_points == 1:\n",
    "        return 0.5  # Half a day\n",
    "    elif story_points == 2:\n",
    "        return 1.5  # 1.5 days\n",
    "    elif story_points == 3:\n",
    "        return 2.5  # 2.5 days\n",
    "    elif story_points == 5:\n",
    "        return 4  # 4 days\n",
    "    elif story_points == 8:\n",
    "        return 5  # 5 days\n",
    "    elif story_points == 13:\n",
    "        return 7  # 7 days\n",
    "    else:\n",
    "        return 0  # Undefined category for other story points\n",
    "\n",
    "filtered_data = data.dropna(subset=['Story Points', 'Resolution Time'])\n",
    "\n",
    "estimated_time = filtered_data['Story Points'].apply(estimate_resolution_time_from_story_points)\n",
    "actual_time = filtered_data['Resolution Time']\n",
    "\n",
    "# Calcular MAE base\n",
    "mae_base = mean_absolute_error(actual_time, estimated_time)\n",
    "print(f\"MAE base (estimaciones manuales): {mae_base}\")"
   ]
  },
  {
   "cell_type": "code",
   "execution_count": 210,
   "id": "aa78b0b5-f46c-41f2-8c1b-13b27297436e",
   "metadata": {
    "tags": []
   },
   "outputs": [
    {
     "name": "stdout",
     "output_type": "stream",
     "text": [
      "Reducción del MAE: 79.87%\n"
     ]
    }
   ],
   "source": [
    "mae_model = 1.3072  # MAE del modelo\n",
    "improvement = ((mae_base - mae_model) / mae_base) * 100\n",
    "print(f\"Reducción del MAE: {improvement:.2f}%\")"
   ]
  },
  {
   "cell_type": "code",
   "execution_count": null,
   "id": "1add66aa-90e3-4814-bca5-0be603cc9084",
   "metadata": {},
   "outputs": [],
   "source": []
  }
 ],
 "metadata": {
  "kernelspec": {
   "display_name": "Python 3 (ipykernel)",
   "language": "python",
   "name": "python3"
  },
  "language_info": {
   "codemirror_mode": {
    "name": "ipython",
    "version": 3
   },
   "file_extension": ".py",
   "mimetype": "text/x-python",
   "name": "python",
   "nbconvert_exporter": "python",
   "pygments_lexer": "ipython3",
   "version": "3.11.7"
  }
 },
 "nbformat": 4,
 "nbformat_minor": 5
}
